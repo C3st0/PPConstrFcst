{
  "nbformat": 4,
  "nbformat_minor": 0,
  "metadata": {
    "kernelspec": {
      "display_name": "Py35",
      "language": "python",
      "name": "py35"
    },
    "language_info": {
      "codemirror_mode": {
        "name": "ipython",
        "version": 3
      },
      "file_extension": ".py",
      "mimetype": "text/x-python",
      "name": "python",
      "nbconvert_exporter": "python",
      "pygments_lexer": "ipython3",
      "version": "3.5.5"
    },
    "colab": {
      "name": "Python for Deep Learning.ipynb",
      "version": "0.3.2",
      "provenance": [],
      "collapsed_sections": [],
      "include_colab_link": true
    }
  },
  "cells": [
    {
      "cell_type": "markdown",
      "metadata": {
        "id": "view-in-github",
        "colab_type": "text"
      },
      "source": [
        "<a href=\"https://colab.research.google.com/github/cest0/PPConstrFcst/blob/master/Python_for_Deep_Learning.ipynb\" target=\"_parent\"><img src=\"https://colab.research.google.com/assets/colab-badge.svg\" alt=\"Open In Colab\"/></a>"
      ]
    },
    {
      "cell_type": "markdown",
      "metadata": {
        "id": "ItRjLqQSRJJY",
        "colab_type": "text"
      },
      "source": [
        "# Modules and Packages"
      ]
    },
    {
      "cell_type": "code",
      "metadata": {
        "scrolled": true,
        "id": "zxOuL8cORJJa",
        "colab_type": "code",
        "colab": {
          "base_uri": "https://localhost:8080/",
          "height": 335
        },
        "outputId": "88dfdc08-96fd-45b8-db5c-23799a950bc4"
      },
      "source": [
        "import pickle,csv\n",
        "from dataloader import get_data"
      ],
      "execution_count": 1,
      "outputs": [
        {
          "output_type": "error",
          "ename": "ModuleNotFoundError",
          "evalue": "ignored",
          "traceback": [
            "\u001b[0;31m---------------------------------------------------------------------------\u001b[0m",
            "\u001b[0;31mModuleNotFoundError\u001b[0m                       Traceback (most recent call last)",
            "\u001b[0;32m<ipython-input-1-80d340b35860>\u001b[0m in \u001b[0;36m<module>\u001b[0;34m()\u001b[0m\n\u001b[1;32m      1\u001b[0m \u001b[0;32mimport\u001b[0m \u001b[0mpickle\u001b[0m\u001b[0;34m,\u001b[0m\u001b[0mcsv\u001b[0m\u001b[0;34m\u001b[0m\u001b[0;34m\u001b[0m\u001b[0m\n\u001b[0;32m----> 2\u001b[0;31m \u001b[0;32mfrom\u001b[0m \u001b[0mdataloader\u001b[0m \u001b[0;32mimport\u001b[0m \u001b[0mget_data\u001b[0m\u001b[0;34m\u001b[0m\u001b[0;34m\u001b[0m\u001b[0m\n\u001b[0m",
            "\u001b[0;31mModuleNotFoundError\u001b[0m: No module named 'dataloader'",
            "",
            "\u001b[0;31m---------------------------------------------------------------------------\u001b[0;32m\nNOTE: If your import is failing due to a missing package, you can\nmanually install dependencies using either !pip or !apt.\n\nTo view examples of installing some common dependencies, click the\n\"Open Examples\" button below.\n\u001b[0;31m---------------------------------------------------------------------------\u001b[0m\n"
          ]
        }
      ]
    },
    {
      "cell_type": "markdown",
      "metadata": {
        "id": "11yO9vmxRJJg",
        "colab_type": "text"
      },
      "source": [
        "* [Python Standard Library](https://docs.python.org/3/library/) - Python runtime services,Generic Operating System,  Services, Debugging \n",
        "* Numpy, Matplotlib\n",
        "* Pytorch, Tensorflow"
      ]
    },
    {
      "cell_type": "markdown",
      "metadata": {
        "id": "-p0sp4DoRJJi",
        "colab_type": "text"
      },
      "source": [
        "# Data Sources  and Common data store formats"
      ]
    },
    {
      "cell_type": "markdown",
      "metadata": {
        "id": "0-B7vwR3RJJj",
        "colab_type": "text"
      },
      "source": [
        "* Python objects - pkl \n",
        "* Numeric data - npz \n",
        "* Multi-data - csv \n",
        "* Plain text - txt \n",
        "* Large Datasets - HDF5 "
      ]
    },
    {
      "cell_type": "code",
      "metadata": {
        "id": "if3cTdMERJJl",
        "colab_type": "code",
        "colab": {
          "base_uri": "https://localhost:8080/",
          "height": 35
        },
        "outputId": "6ddb4b7d-3abd-436b-ace0-32d4a3489577"
      },
      "source": [
        "import pickle\n",
        "obj = { 'age':23,'hobbies':['photography','running','travelling'] }\n",
        "pickle.dump(obj,open('store.pkl','wb'))\n",
        "\n",
        "obj2 = pickle.load(open('store.pkl','rb'))\n",
        "obj2"
      ],
      "execution_count": 2,
      "outputs": [
        {
          "output_type": "execute_result",
          "data": {
            "text/plain": [
              "{'age': 23, 'hobbies': ['photography', 'running', 'travelling']}"
            ]
          },
          "metadata": {
            "tags": []
          },
          "execution_count": 2
        }
      ]
    },
    {
      "cell_type": "code",
      "metadata": {
        "id": "25wh4lAvRJJt",
        "colab_type": "code",
        "colab": {
          "base_uri": "https://localhost:8080/",
          "height": 244
        },
        "outputId": "3c10b9d7-a49f-4216-cf14-96eaa5a81a27"
      },
      "source": [
        "import csv\n",
        "import pprint\n",
        "with open('data/iris.csv', 'r') as csvfile:\n",
        "    reader = csv.reader(csvfile, delimiter=',')\n",
        "    for row in reader:\n",
        "        print(row)"
      ],
      "execution_count": 3,
      "outputs": [
        {
          "output_type": "error",
          "ename": "FileNotFoundError",
          "evalue": "ignored",
          "traceback": [
            "\u001b[0;31m---------------------------------------------------------------------------\u001b[0m",
            "\u001b[0;31mFileNotFoundError\u001b[0m                         Traceback (most recent call last)",
            "\u001b[0;32m<ipython-input-3-d245dbb021ea>\u001b[0m in \u001b[0;36m<module>\u001b[0;34m()\u001b[0m\n\u001b[1;32m      1\u001b[0m \u001b[0;32mimport\u001b[0m \u001b[0mcsv\u001b[0m\u001b[0;34m\u001b[0m\u001b[0;34m\u001b[0m\u001b[0m\n\u001b[1;32m      2\u001b[0m \u001b[0;32mimport\u001b[0m \u001b[0mpprint\u001b[0m\u001b[0;34m\u001b[0m\u001b[0;34m\u001b[0m\u001b[0m\n\u001b[0;32m----> 3\u001b[0;31m \u001b[0;32mwith\u001b[0m \u001b[0mopen\u001b[0m\u001b[0;34m(\u001b[0m\u001b[0;34m'data/iris.csv'\u001b[0m\u001b[0;34m,\u001b[0m \u001b[0;34m'r'\u001b[0m\u001b[0;34m)\u001b[0m \u001b[0;32mas\u001b[0m \u001b[0mcsvfile\u001b[0m\u001b[0;34m:\u001b[0m\u001b[0;34m\u001b[0m\u001b[0;34m\u001b[0m\u001b[0m\n\u001b[0m\u001b[1;32m      4\u001b[0m     \u001b[0mreader\u001b[0m \u001b[0;34m=\u001b[0m \u001b[0mcsv\u001b[0m\u001b[0;34m.\u001b[0m\u001b[0mreader\u001b[0m\u001b[0;34m(\u001b[0m\u001b[0mcsvfile\u001b[0m\u001b[0;34m,\u001b[0m \u001b[0mdelimiter\u001b[0m\u001b[0;34m=\u001b[0m\u001b[0;34m','\u001b[0m\u001b[0;34m)\u001b[0m\u001b[0;34m\u001b[0m\u001b[0;34m\u001b[0m\u001b[0m\n\u001b[1;32m      5\u001b[0m     \u001b[0;32mfor\u001b[0m \u001b[0mrow\u001b[0m \u001b[0;32min\u001b[0m \u001b[0mreader\u001b[0m\u001b[0;34m:\u001b[0m\u001b[0;34m\u001b[0m\u001b[0;34m\u001b[0m\u001b[0m\n",
            "\u001b[0;31mFileNotFoundError\u001b[0m: [Errno 2] No such file or directory: 'data/iris.csv'"
          ]
        }
      ]
    },
    {
      "cell_type": "markdown",
      "metadata": {
        "id": "YymRjh3ARJJz",
        "colab_type": "text"
      },
      "source": [
        "# Data Containers\n",
        "\n",
        "Python offers a variety of containers each dedicated for different purpose and constrained to harness certain optimisations\n",
        "* lists - generic container , numeric indexing\n",
        "* tuples - immutable lists \n",
        "* dictionaries - key-value organisation \n",
        "* sets - collection of unique elements\n",
        "\n",
        "## Lists\n",
        "Pay attention as these are techniques to handle data pre-processing and manipulation in the batch loading phase "
      ]
    },
    {
      "cell_type": "code",
      "metadata": {
        "id": "cxU25TfNRJJ0",
        "colab_type": "code",
        "colab": {
          "base_uri": "https://localhost:8080/",
          "height": 35
        },
        "outputId": "2db8e538-4f91-472c-d337-c11ca60aacbb"
      },
      "source": [
        "homo_list = [12,45,900,78,34,66,17,85]\n",
        "hetero_list = [10,'foo',1.3]\n",
        "print(hetero_list[0])\n",
        "tuple_list = [\n",
        "                (1,'Erebor',800.45),\n",
        "                (2,'Rivendell',500.67),\n",
        "                (3,'Shire',900.12),\n",
        "                (4,'Mordor',1112.30)\n",
        "            ]"
      ],
      "execution_count": 4,
      "outputs": [
        {
          "output_type": "stream",
          "text": [
            "10\n"
          ],
          "name": "stdout"
        }
      ]
    },
    {
      "cell_type": "markdown",
      "metadata": {
        "id": "jPQqvi8XRJJ5",
        "colab_type": "text"
      },
      "source": [
        "**Note** : Lists in batched data processing are particularly lists of tuples  \n",
        "batch_instance = (utter,utterance_length,transcript,transcript_lens)"
      ]
    },
    {
      "cell_type": "markdown",
      "metadata": {
        "id": "yGWGUbykRJJ6",
        "colab_type": "text"
      },
      "source": [
        "### Operations"
      ]
    },
    {
      "cell_type": "code",
      "metadata": {
        "id": "c4GT95gLRJJ7",
        "colab_type": "code",
        "colab": {
          "base_uri": "https://localhost:8080/",
          "height": 35
        },
        "outputId": "5cd55ebc-7f99-4fe9-8713-30f9abc6d7a0"
      },
      "source": [
        "l3 = homo_list * 2\n",
        "l3"
      ],
      "execution_count": 6,
      "outputs": [
        {
          "output_type": "execute_result",
          "data": {
            "text/plain": [
              "[12, 45, 900, 78, 34, 66, 17, 85, 12, 45, 900, 78, 34, 66, 17, 85]"
            ]
          },
          "metadata": {
            "tags": []
          },
          "execution_count": 6
        }
      ]
    },
    {
      "cell_type": "markdown",
      "metadata": {
        "id": "E7RyoEoCRJJ_",
        "colab_type": "text"
      },
      "source": [
        "This is different from the result you'd get when operating on numpy"
      ]
    },
    {
      "cell_type": "code",
      "metadata": {
        "id": "izIIyCBmRJKA",
        "colab_type": "code",
        "colab": {
          "base_uri": "https://localhost:8080/",
          "height": 35
        },
        "outputId": "d1a507c8-bb57-47ba-e2b6-b23cddab3b5b"
      },
      "source": [
        "homo_list + hetero_list"
      ],
      "execution_count": 7,
      "outputs": [
        {
          "output_type": "execute_result",
          "data": {
            "text/plain": [
              "[12, 45, 900, 78, 34, 66, 17, 85, 10, 'foo', 1.3]"
            ]
          },
          "metadata": {
            "tags": []
          },
          "execution_count": 7
        }
      ]
    },
    {
      "cell_type": "markdown",
      "metadata": {
        "id": "ekS-hgUpRJKH",
        "colab_type": "text"
      },
      "source": [
        "`sorted`, `sum`,`max`,`min`"
      ]
    },
    {
      "cell_type": "code",
      "metadata": {
        "id": "BLddjP-cRJKJ",
        "colab_type": "code",
        "colab": {
          "base_uri": "https://localhost:8080/",
          "height": 54
        },
        "outputId": "e4dcd177-26f9-4d0b-c368-2fd9d22ddf09"
      },
      "source": [
        "print(sorted(homo_list))\n",
        "print(sum(homo_list))"
      ],
      "execution_count": 8,
      "outputs": [
        {
          "output_type": "stream",
          "text": [
            "[12, 17, 34, 45, 66, 78, 85, 900]\n",
            "1237\n"
          ],
          "name": "stdout"
        }
      ]
    },
    {
      "cell_type": "code",
      "metadata": {
        "id": "UflEVt3PVD83",
        "colab_type": "code",
        "colab": {}
      },
      "source": [
        "lst_tuples = [(1,11), (2,12), (4,9), (3,8)]"
      ],
      "execution_count": 0,
      "outputs": []
    },
    {
      "cell_type": "code",
      "metadata": {
        "id": "8S9OlGfqVOa1",
        "colab_type": "code",
        "colab": {
          "base_uri": "https://localhost:8080/",
          "height": 35
        },
        "outputId": "d4ca3eb0-5845-4566-91c2-57b8f5e3ec2d"
      },
      "source": [
        "sorted(lst_tuples)"
      ],
      "execution_count": 10,
      "outputs": [
        {
          "output_type": "execute_result",
          "data": {
            "text/plain": [
              "[(1, 11), (2, 12), (3, 8), (4, 9)]"
            ]
          },
          "metadata": {
            "tags": []
          },
          "execution_count": 10
        }
      ]
    },
    {
      "cell_type": "markdown",
      "metadata": {
        "id": "4VgYBbB5RJKP",
        "colab_type": "text"
      },
      "source": [
        "###  Conditional operations - filtering:\n",
        "There are two ways to filter lists:\n",
        "* Index based - Slicing and Dicing\n",
        "* Condition based - List comprehension"
      ]
    },
    {
      "cell_type": "markdown",
      "metadata": {
        "id": "eDMa36ZRRJKQ",
        "colab_type": "text"
      },
      "source": [
        "# Slicing and Dicing\n",
        "` sliced_list = [ start_idx : end_idx+1 : step]`"
      ]
    },
    {
      "cell_type": "code",
      "metadata": {
        "id": "Bvs3WMiiRJKR",
        "colab_type": "code",
        "colab": {
          "base_uri": "https://localhost:8080/",
          "height": 72
        },
        "outputId": "f8f081f5-22a6-4a19-c945-3c6ccfc05ad3"
      },
      "source": [
        "print(homo_list)\n",
        "print(homo_list[:5])\n",
        "print(homo_list[-1:0:-2])"
      ],
      "execution_count": 11,
      "outputs": [
        {
          "output_type": "stream",
          "text": [
            "[12, 45, 900, 78, 34, 66, 17, 85]\n",
            "[12, 45, 900, 78, 34]\n",
            "[85, 66, 78, 45]\n"
          ],
          "name": "stdout"
        }
      ]
    },
    {
      "cell_type": "markdown",
      "metadata": {
        "id": "u5jk2lc9RJKU",
        "colab_type": "text"
      },
      "source": [
        "#### List comprehension\n",
        "\n",
        "`*result*  = [*transform*    *iteration*         *filter*     ]` \n",
        "~~~~\n",
        "res = [ manipulation(instance[2]) for instance in sorted_dataset ]\n",
        "~~~~"
      ]
    },
    {
      "cell_type": "code",
      "metadata": {
        "id": "jwhRF1z9RJKV",
        "colab_type": "code",
        "colab": {
          "base_uri": "https://localhost:8080/",
          "height": 35
        },
        "outputId": "83b7a5d2-11d4-4122-cc7a-4f5a3b3f9d87"
      },
      "source": [
        "res = [no for no in homo_list if no>50]\n",
        "res"
      ],
      "execution_count": 12,
      "outputs": [
        {
          "output_type": "execute_result",
          "data": {
            "text/plain": [
              "[900, 78, 66, 85]"
            ]
          },
          "metadata": {
            "tags": []
          },
          "execution_count": 12
        }
      ]
    },
    {
      "cell_type": "code",
      "metadata": {
        "scrolled": true,
        "id": "eVfaYaf4RJKc",
        "colab_type": "code",
        "colab": {
          "base_uri": "https://localhost:8080/",
          "height": 35
        },
        "outputId": "f84d2ab9-a543-40b9-c495-42f683709505"
      },
      "source": [
        "%%timeit  \n",
        "res = [i for i in range(10000)]"
      ],
      "execution_count": 13,
      "outputs": [
        {
          "output_type": "stream",
          "text": [
            "1000 loops, best of 3: 451 µs per loop\n"
          ],
          "name": "stdout"
        }
      ]
    },
    {
      "cell_type": "code",
      "metadata": {
        "id": "_eRLqFI4RJKh",
        "colab_type": "code",
        "colab": {
          "base_uri": "https://localhost:8080/",
          "height": 35
        },
        "outputId": "d0b8d2e5-cd3e-4d59-db40-c52415818d4b"
      },
      "source": [
        "%%timeit\n",
        "res = []\n",
        "for i in range(10000):\n",
        "    res.append(i)"
      ],
      "execution_count": 14,
      "outputs": [
        {
          "output_type": "stream",
          "text": [
            "1000 loops, best of 3: 1.11 ms per loop\n"
          ],
          "name": "stdout"
        }
      ]
    },
    {
      "cell_type": "markdown",
      "metadata": {
        "id": "VeDucl6eRJKl",
        "colab_type": "text"
      },
      "source": [
        "## Usecase: Data Preprocessing and Loading\n"
      ]
    },
    {
      "cell_type": "code",
      "metadata": {
        "id": "GMQd2VsPRJKm",
        "colab_type": "code",
        "colab": {
          "base_uri": "https://localhost:8080/",
          "height": 244
        },
        "outputId": "20b90621-5705-4b54-bc29-a2b37c1db1d6"
      },
      "source": [
        "batch_dataset = get_data()\n",
        "print(type(batch_dataset[0]))\n",
        "\n",
        "## (utterance,utterance_size,transcripts,transcripts_size)\n",
        "batch_dataset[0]"
      ],
      "execution_count": 15,
      "outputs": [
        {
          "output_type": "error",
          "ename": "NameError",
          "evalue": "ignored",
          "traceback": [
            "\u001b[0;31m---------------------------------------------------------------------------\u001b[0m",
            "\u001b[0;31mNameError\u001b[0m                                 Traceback (most recent call last)",
            "\u001b[0;32m<ipython-input-15-8073abd60383>\u001b[0m in \u001b[0;36m<module>\u001b[0;34m()\u001b[0m\n\u001b[0;32m----> 1\u001b[0;31m \u001b[0mbatch_dataset\u001b[0m \u001b[0;34m=\u001b[0m \u001b[0mget_data\u001b[0m\u001b[0;34m(\u001b[0m\u001b[0;34m)\u001b[0m\u001b[0;34m\u001b[0m\u001b[0;34m\u001b[0m\u001b[0m\n\u001b[0m\u001b[1;32m      2\u001b[0m \u001b[0mprint\u001b[0m\u001b[0;34m(\u001b[0m\u001b[0mtype\u001b[0m\u001b[0;34m(\u001b[0m\u001b[0mbatch_dataset\u001b[0m\u001b[0;34m[\u001b[0m\u001b[0;36m0\u001b[0m\u001b[0;34m]\u001b[0m\u001b[0;34m)\u001b[0m\u001b[0;34m)\u001b[0m\u001b[0;34m\u001b[0m\u001b[0;34m\u001b[0m\u001b[0m\n\u001b[1;32m      3\u001b[0m \u001b[0;34m\u001b[0m\u001b[0m\n\u001b[1;32m      4\u001b[0m \u001b[0;31m## (utterance,utterance_size,transcripts,transcripts_size)\u001b[0m\u001b[0;34m\u001b[0m\u001b[0;34m\u001b[0m\u001b[0;34m\u001b[0m\u001b[0m\n\u001b[1;32m      5\u001b[0m \u001b[0mbatch_dataset\u001b[0m\u001b[0;34m[\u001b[0m\u001b[0;36m0\u001b[0m\u001b[0;34m]\u001b[0m\u001b[0;34m\u001b[0m\u001b[0;34m\u001b[0m\u001b[0m\n",
            "\u001b[0;31mNameError\u001b[0m: name 'get_data' is not defined"
          ]
        }
      ]
    },
    {
      "cell_type": "code",
      "metadata": {
        "id": "2ZlzF0_ARJKs",
        "colab_type": "code",
        "colab": {
          "base_uri": "https://localhost:8080/",
          "height": 244
        },
        "outputId": "e00e6b14-4ade-4215-c501-ed23b7244f12"
      },
      "source": [
        "# sorting\n",
        "sorted_dataset = sorted(batch_dataset,key=lambda x: x[1])\n",
        "\n",
        "# max\n",
        "max_transcript_len = max(batch_dataset,key=lambda x: x[3] )[3]\n",
        "\n",
        "#list comprehension for extraction\n",
        "transcripts = [ (instance[2],instance[3]) for instance in sorted_dataset]\n",
        "\n",
        "#list comprehension for manipulation \n",
        "\"\"\"\n",
        "Returns transpose of matrix\n",
        "\"\"\"    \n",
        "def manipulation(data):\n",
        "    return data.T\n",
        "\n",
        "pad_len = [ manipulation(instance[2]) for instance in sorted_dataset ]\n",
        "pad_len[0]"
      ],
      "execution_count": 16,
      "outputs": [
        {
          "output_type": "error",
          "ename": "NameError",
          "evalue": "ignored",
          "traceback": [
            "\u001b[0;31m---------------------------------------------------------------------------\u001b[0m",
            "\u001b[0;31mNameError\u001b[0m                                 Traceback (most recent call last)",
            "\u001b[0;32m<ipython-input-16-0260fbaaf3e3>\u001b[0m in \u001b[0;36m<module>\u001b[0;34m()\u001b[0m\n\u001b[0;32m----> 1\u001b[0;31m \u001b[0msorted_dataset\u001b[0m \u001b[0;34m=\u001b[0m \u001b[0msorted\u001b[0m\u001b[0;34m(\u001b[0m\u001b[0mbatch_dataset\u001b[0m\u001b[0;34m,\u001b[0m\u001b[0mkey\u001b[0m\u001b[0;34m=\u001b[0m\u001b[0;32mlambda\u001b[0m \u001b[0mx\u001b[0m\u001b[0;34m:\u001b[0m \u001b[0mx\u001b[0m\u001b[0;34m[\u001b[0m\u001b[0;36m1\u001b[0m\u001b[0;34m]\u001b[0m\u001b[0;34m)\u001b[0m\u001b[0;34m\u001b[0m\u001b[0;34m\u001b[0m\u001b[0m\n\u001b[0m\u001b[1;32m      2\u001b[0m \u001b[0;34m\u001b[0m\u001b[0m\n\u001b[1;32m      3\u001b[0m \u001b[0;31m# max\u001b[0m\u001b[0;34m\u001b[0m\u001b[0;34m\u001b[0m\u001b[0;34m\u001b[0m\u001b[0m\n\u001b[1;32m      4\u001b[0m \u001b[0mmax_transcript_len\u001b[0m \u001b[0;34m=\u001b[0m \u001b[0mmax\u001b[0m\u001b[0;34m(\u001b[0m\u001b[0mbatch_dataset\u001b[0m\u001b[0;34m,\u001b[0m\u001b[0mkey\u001b[0m\u001b[0;34m=\u001b[0m\u001b[0;32mlambda\u001b[0m \u001b[0mx\u001b[0m\u001b[0;34m:\u001b[0m \u001b[0mx\u001b[0m\u001b[0;34m[\u001b[0m\u001b[0;36m3\u001b[0m\u001b[0;34m]\u001b[0m \u001b[0;34m)\u001b[0m\u001b[0;34m[\u001b[0m\u001b[0;36m3\u001b[0m\u001b[0;34m]\u001b[0m\u001b[0;34m\u001b[0m\u001b[0;34m\u001b[0m\u001b[0m\n\u001b[1;32m      5\u001b[0m \u001b[0;34m\u001b[0m\u001b[0m\n",
            "\u001b[0;31mNameError\u001b[0m: name 'batch_dataset' is not defined"
          ]
        }
      ]
    },
    {
      "cell_type": "markdown",
      "metadata": {
        "id": "3ImJexlNRJKy",
        "colab_type": "text"
      },
      "source": [
        "### Classes\n",
        "\n",
        "Specifically useful for datasets that are supposed to be 'iterable'"
      ]
    },
    {
      "cell_type": "markdown",
      "metadata": {
        "id": "722loGLtRJK0",
        "colab_type": "text"
      },
      "source": [
        "### Iterable and Iterators"
      ]
    },
    {
      "cell_type": "code",
      "metadata": {
        "id": "J8A24rEaRJK2",
        "colab_type": "code",
        "colab": {}
      },
      "source": [
        "class IterableADT:\n",
        "    \n",
        "    def __init__(self,train_data_src,train_data_src2, train_label_src):\n",
        "        self.x = train_data_src\n",
        "        self.x2 = train_data_src2\n",
        "        self.y = train_label_src\n",
        "        assert len(self.x) == len(self.x2)\n",
        "        assert len(self.x2) == len(self.y)\n",
        "    \n",
        "    def __len__(self):\n",
        "        return len(self.x)\n",
        "\n",
        "    def __getitem__(self,key):\n",
        "        return (self.x[key],self.x2[key],self.y[key])\n",
        "    "
      ],
      "execution_count": 0,
      "outputs": []
    },
    {
      "cell_type": "markdown",
      "metadata": {
        "id": "boP-3ubdRJK_",
        "colab_type": "text"
      },
      "source": [
        "### Generators\n",
        "Instead of creating classes for iterators , you can use the generator \n",
        "Generators relieve the developer of recording the state of the iteration \n",
        "Simplistically, generators are functions that use `yield` statement instead of `return`\n"
      ]
    },
    {
      "cell_type": "code",
      "metadata": {
        "id": "enczlxk8RJLA",
        "colab_type": "code",
        "colab": {},
        "outputId": "d77b9c91-4995-453f-b0f1-4c096c773ffe"
      },
      "source": [
        "def pairwise_generator(input_data):\n",
        "    for i in range(0,len(input_data),2):\n",
        "        yield (input_data[i],input_data[i+1])\n",
        "\n",
        "data = [1,'one',2,'two',3,'three',4,'four',5,'five']        \n",
        "generator = pairwise_generator(data)\n",
        "for elt in generator:\n",
        "    print(elt)"
      ],
      "execution_count": 0,
      "outputs": [
        {
          "output_type": "stream",
          "text": [
            "(1, 'one')\n",
            "(2, 'two')\n",
            "(3, 'three')\n",
            "(4, 'four')\n",
            "(5, 'five')\n"
          ],
          "name": "stdout"
        }
      ]
    },
    {
      "cell_type": "markdown",
      "metadata": {
        "id": "apfA3a7BRJLM",
        "colab_type": "text"
      },
      "source": [
        "# Debugging - Pdb"
      ]
    },
    {
      "cell_type": "code",
      "metadata": {
        "id": "QGxDqjUvRJLN",
        "colab_type": "code",
        "colab": {},
        "outputId": "b4ce5168-1616-4b62-a7a7-cf07f230da12"
      },
      "source": [
        "import pdb\n",
        "def pairwise_generator(input_data):\n",
        "    pdb.set_trace()\n",
        "    for i in range(0,len(input_data),2):        \n",
        "        yield (input_data[i],input_data[i+1])\n",
        "        \n",
        "data = [1,'one',2,'two',3,'three',4,'four']        \n",
        "generator = pairwise_generator(data)\n",
        "for elt in generator:\n",
        "    print(elt)"
      ],
      "execution_count": 0,
      "outputs": [
        {
          "output_type": "stream",
          "text": [
            "> <ipython-input-62-327e211f3ec6>(4)pairwise_generator()\n",
            "-> for i in range(0,len(data),2):\n",
            "(Pdb) n\n",
            "> <ipython-input-62-327e211f3ec6>(5)pairwise_generator()\n",
            "-> yield (input_data[i],input_data[i+1])\n",
            "(Pdb) n\n",
            "(1, 'one')\n",
            "> <ipython-input-62-327e211f3ec6>(4)pairwise_generator()\n",
            "-> for i in range(0,len(data),2):\n",
            "(Pdb) elt\n",
            "(1, 'one')\n",
            "(Pdb) input_data[i]\n",
            "1\n",
            "(Pdb) n\n",
            "> <ipython-input-62-327e211f3ec6>(5)pairwise_generator()\n",
            "-> yield (input_data[i],input_data[i+1])\n",
            "(Pdb) input_data[i]\n",
            "2\n",
            "(Pdb) n\n",
            "(2, 'two')\n",
            "> <ipython-input-62-327e211f3ec6>(4)pairwise_generator()\n",
            "-> for i in range(0,len(data),2):\n",
            "(Pdb) elt\n",
            "(2, 'two')\n",
            "(Pdb) n\n",
            "> <ipython-input-62-327e211f3ec6>(5)pairwise_generator()\n",
            "-> yield (input_data[i],input_data[i+1])\n",
            "(Pdb) n\n",
            "(3, 'three')\n",
            "> <ipython-input-62-327e211f3ec6>(4)pairwise_generator()\n",
            "-> for i in range(0,len(data),2):\n",
            "(Pdb) n\n",
            "> <ipython-input-62-327e211f3ec6>(5)pairwise_generator()\n",
            "-> yield (input_data[i],input_data[i+1])\n",
            "(Pdb) c\n",
            "(4, 'four')\n"
          ],
          "name": "stdout"
        }
      ]
    },
    {
      "cell_type": "code",
      "metadata": {
        "id": "axbIb92NRJLT",
        "colab_type": "code",
        "colab": {}
      },
      "source": [
        ""
      ],
      "execution_count": 0,
      "outputs": []
    }
  ]
}