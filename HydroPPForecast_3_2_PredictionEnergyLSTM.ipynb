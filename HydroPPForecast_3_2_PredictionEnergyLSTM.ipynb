{
  "nbformat": 4,
  "nbformat_minor": 0,
  "metadata": {
    "anaconda-cloud": {},
    "kernelspec": {
      "name": "python3",
      "display_name": "Python 3"
    },
    "language_info": {
      "codemirror_mode": {
        "name": "ipython",
        "version": 3
      },
      "file_extension": ".py",
      "mimetype": "text/x-python",
      "name": "python",
      "nbconvert_exporter": "python",
      "pygments_lexer": "ipython3",
      "version": "3.7.3"
    },
    "toc": {
      "base_numbering": 1,
      "nav_menu": {
        "height": "326px",
        "width": "351px"
      },
      "number_sections": true,
      "sideBar": true,
      "skip_h1_title": false,
      "title_cell": "Table of Contents",
      "title_sidebar": "Contents",
      "toc_cell": false,
      "toc_position": {},
      "toc_section_display": true,
      "toc_window_display": false
    },
    "colab": {
      "name": "HydroPPForecast_3.2_PredictionEnergyLSTM.ipynb",
      "version": "0.3.2",
      "provenance": [],
      "collapsed_sections": [],
      "include_colab_link": true
    },
    "accelerator": "GPU"
  },
  "cells": [
    {
      "cell_type": "markdown",
      "metadata": {
        "id": "view-in-github",
        "colab_type": "text"
      },
      "source": [
        "<a href=\"https://colab.research.google.com/github/cest0/PPConstrFcst/blob/master/HydroPPForecast_3_2_PredictionEnergyLSTM.ipynb\" target=\"_parent\"><img src=\"https://colab.research.google.com/assets/colab-badge.svg\" alt=\"Open In Colab\"/></a>"
      ]
    },
    {
      "cell_type": "markdown",
      "metadata": {
        "id": "VtjRHv_28RXB",
        "colab_type": "text"
      },
      "source": [
        "#  Hydro powerplant constraints forecast - energy with LSTM"
      ]
    },
    {
      "cell_type": "markdown",
      "metadata": {
        "id": "trDtOptH8RXC",
        "colab_type": "text"
      },
      "source": [
        "## Introduction\n",
        "\n",
        "In this experiment, we are building RNN models using GRU and LSTM cells, trying to beat MLP models that dont incorporate time structure.\n",
        "\n",
        "For performance reasons, this is executed on google colab, to take advantage of their hardware accelaration capabilities.\n",
        "\n",
        "This code is very largely inspired by the following tutorial: https://github.com/Hvass-Labs/TensorFlow-Tutorials/blob/master/23_Time-Series-Prediction.ipynb"
      ]
    },
    {
      "cell_type": "markdown",
      "metadata": {
        "id": "L1pYXKO38RXE",
        "colab_type": "text"
      },
      "source": [
        "## Imports"
      ]
    },
    {
      "cell_type": "code",
      "metadata": {
        "ExecuteTime": {
          "end_time": "2019-09-15T07:17:40.737835Z",
          "start_time": "2019-09-15T07:17:32.069246Z"
        },
        "id": "aZ1qkxjg8RXF",
        "colab_type": "code",
        "colab": {}
      },
      "source": [
        "%matplotlib inline\n",
        "import matplotlib.pyplot as plt\n",
        "import tensorflow as tf\n",
        "import numpy as np\n",
        "import pandas as pd\n",
        "import os\n",
        "from sklearn.preprocessing import MinMaxScaler\n",
        "from sklearn import metrics\n",
        "from sklearn.metrics import mean_squared_error, mean_absolute_error\n",
        "import statistics \n",
        "import math"
      ],
      "execution_count": 0,
      "outputs": []
    },
    {
      "cell_type": "code",
      "metadata": {
        "ExecuteTime": {
          "end_time": "2019-09-15T07:17:51.232625Z",
          "start_time": "2019-09-15T07:17:51.228628Z"
        },
        "id": "rBU0D-0W8RXI",
        "colab_type": "code",
        "colab": {}
      },
      "source": [
        "# from tf.keras.models import Sequential  \n",
        "from tensorflow.python.keras.models import Sequential\n",
        "from tensorflow.python.keras.layers import Input, Dense, GRU, Embedding, LSTM, Dropout\n",
        "from tensorflow.python.keras.optimizers import RMSprop\n",
        "from tensorflow.python.keras.callbacks import EarlyStopping, ModelCheckpoint, TensorBoard, ReduceLROnPlateau"
      ],
      "execution_count": 0,
      "outputs": []
    },
    {
      "cell_type": "markdown",
      "metadata": {
        "id": "mrdJpdsu8RXK",
        "colab_type": "text"
      },
      "source": [
        "This was developed using google colab and package versions:"
      ]
    },
    {
      "cell_type": "code",
      "metadata": {
        "ExecuteTime": {
          "end_time": "2019-09-15T07:17:57.415302Z",
          "start_time": "2019-09-15T07:17:57.410289Z"
        },
        "scrolled": false,
        "id": "oUiMUISz8RXL",
        "colab_type": "code",
        "colab": {
          "base_uri": "https://localhost:8080/",
          "height": 34
        },
        "outputId": "3b0b68c5-7d82-40c5-f428-9da4c762db99"
      },
      "source": [
        "tf.__version__"
      ],
      "execution_count": 9,
      "outputs": [
        {
          "output_type": "execute_result",
          "data": {
            "text/plain": [
              "'1.14.0'"
            ]
          },
          "metadata": {
            "tags": []
          },
          "execution_count": 9
        }
      ]
    },
    {
      "cell_type": "code",
      "metadata": {
        "ExecuteTime": {
          "end_time": "2019-09-15T07:18:02.702787Z",
          "start_time": "2019-09-15T07:18:02.698772Z"
        },
        "scrolled": true,
        "id": "dcoLLd818RXO",
        "colab_type": "code",
        "colab": {
          "base_uri": "https://localhost:8080/",
          "height": 34
        },
        "outputId": "35f69aec-9c1f-491b-ea4f-64a93873100e"
      },
      "source": [
        "tf.keras.__version__"
      ],
      "execution_count": 10,
      "outputs": [
        {
          "output_type": "execute_result",
          "data": {
            "text/plain": [
              "'2.2.4-tf'"
            ]
          },
          "metadata": {
            "tags": []
          },
          "execution_count": 10
        }
      ]
    },
    {
      "cell_type": "code",
      "metadata": {
        "ExecuteTime": {
          "end_time": "2019-09-15T07:18:06.614028Z",
          "start_time": "2019-09-15T07:18:06.611047Z"
        },
        "id": "jY3X5rc98RXQ",
        "colab_type": "code",
        "colab": {
          "base_uri": "https://localhost:8080/",
          "height": 34
        },
        "outputId": "fc31716e-3336-46f1-ec19-989f391fbcd3"
      },
      "source": [
        "pd.__version__"
      ],
      "execution_count": 11,
      "outputs": [
        {
          "output_type": "execute_result",
          "data": {
            "text/plain": [
              "'0.24.2'"
            ]
          },
          "metadata": {
            "tags": []
          },
          "execution_count": 11
        }
      ]
    },
    {
      "cell_type": "markdown",
      "metadata": {
        "id": "KbE1L-vI8RXT",
        "colab_type": "text"
      },
      "source": [
        "## Load Dataset\n",
        "\n",
        "We load our clean data set."
      ]
    },
    {
      "cell_type": "code",
      "metadata": {
        "id": "5szJruoN8Ui8",
        "colab_type": "code",
        "colab": {
          "resources": {
            "http://localhost:8080/nbextensions/google.colab/files.js": {
              "data": "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",
              "ok": true,
              "headers": [
                [
                  "content-type",
                  "application/javascript"
                ]
              ],
              "status": 200,
              "status_text": ""
            }
          },
          "base_uri": "https://localhost:8080/",
          "height": 75
        },
        "outputId": "97e26a5e-4120-48da-f04d-51068c719204"
      },
      "source": [
        "from google.colab import files\n",
        "uploaded = files.upload()"
      ],
      "execution_count": 12,
      "outputs": [
        {
          "output_type": "display_data",
          "data": {
            "text/html": [
              "\n",
              "     <input type=\"file\" id=\"files-d7c66fd3-672e-4fb7-b359-b590bd3e831b\" name=\"files[]\" multiple disabled />\n",
              "     <output id=\"result-d7c66fd3-672e-4fb7-b359-b590bd3e831b\">\n",
              "      Upload widget is only available when the cell has been executed in the\n",
              "      current browser session. Please rerun this cell to enable.\n",
              "      </output>\n",
              "      <script src=\"/nbextensions/google.colab/files.js\"></script> "
            ],
            "text/plain": [
              "<IPython.core.display.HTML object>"
            ]
          },
          "metadata": {
            "tags": []
          }
        },
        {
          "output_type": "stream",
          "text": [
            "Saving clean_dataframe.csv to clean_dataframe.csv\n"
          ],
          "name": "stdout"
        }
      ]
    },
    {
      "cell_type": "code",
      "metadata": {
        "ExecuteTime": {
          "end_time": "2019-09-15T07:22:52.196103Z",
          "start_time": "2019-09-15T07:22:52.153123Z"
        },
        "id": "a0_SYWTk8RXU",
        "colab_type": "code",
        "colab": {}
      },
      "source": [
        "dateparse = lambda x: pd.datetime.strptime(x, '%Y-%m-%d')\n",
        "\n",
        "df = pd.read_csv(\"clean_dataframe.csv\", parse_dates=['Date'], date_parser=dateparse, index_col=\"Date.1\")\n",
        "# rename date column \n",
        "df.rename(columns={ df.columns[0]: \"Date\"}, inplace=True)\n",
        "df.index = df[\"Date\"]\n",
        "df.rename(columns={ \"Variante Prio\": \"Max prod\"}, inplace=True)"
      ],
      "execution_count": 0,
      "outputs": []
    },
    {
      "cell_type": "markdown",
      "metadata": {
        "id": "9fqz58QA8RXW",
        "colab_type": "text"
      },
      "source": [
        "The data imported has been previously cleaned."
      ]
    },
    {
      "cell_type": "markdown",
      "metadata": {
        "id": "dDD1a8E08RXW",
        "colab_type": "text"
      },
      "source": [
        "These are the top rows of the data-set."
      ]
    },
    {
      "cell_type": "code",
      "metadata": {
        "ExecuteTime": {
          "end_time": "2019-09-15T07:22:55.894647Z",
          "start_time": "2019-09-15T07:22:55.872659Z"
        },
        "id": "yWKsmggS8RXX",
        "colab_type": "code",
        "colab": {
          "base_uri": "https://localhost:8080/",
          "height": 362
        },
        "outputId": "85ff24b9-870c-4073-c8d4-92973e65ced3"
      },
      "source": [
        "df.head()"
      ],
      "execution_count": 14,
      "outputs": [
        {
          "output_type": "execute_result",
          "data": {
            "text/html": [
              "<div>\n",
              "<style scoped>\n",
              "    .dataframe tbody tr th:only-of-type {\n",
              "        vertical-align: middle;\n",
              "    }\n",
              "\n",
              "    .dataframe tbody tr th {\n",
              "        vertical-align: top;\n",
              "    }\n",
              "\n",
              "    .dataframe thead th {\n",
              "        text-align: right;\n",
              "    }\n",
              "</style>\n",
              "<table border=\"1\" class=\"dataframe\">\n",
              "  <thead>\n",
              "    <tr style=\"text-align: right;\">\n",
              "      <th></th>\n",
              "      <th>Date</th>\n",
              "      <th>Min prod</th>\n",
              "      <th>Inflow lake 1 [m3]</th>\n",
              "      <th>Inflow lake 2 [m3]</th>\n",
              "      <th>Inflow lake 3 [m3]</th>\n",
              "      <th>Inflow lake 4 [m3]</th>\n",
              "      <th>Vol lake 1 [%]</th>\n",
              "      <th>Max lake 1 [1000m3]</th>\n",
              "      <th>Availability plant 1 [%]</th>\n",
              "      <th>Availability plant 2 [%]</th>\n",
              "      <th>Availability plant 3 [%]</th>\n",
              "      <th>Availability plant 4 [%]</th>\n",
              "      <th>SDL [MWh]</th>\n",
              "      <th>Weekend</th>\n",
              "      <th>Max prod</th>\n",
              "      <th>PrioH1</th>\n",
              "      <th>PrioP1</th>\n",
              "      <th>PrioH2</th>\n",
              "      <th>PrioP2</th>\n",
              "      <th>PrioH3</th>\n",
              "      <th>PrioP3</th>\n",
              "      <th>PrioH4</th>\n",
              "      <th>PrioP4</th>\n",
              "      <th>TotalAvailablePower</th>\n",
              "    </tr>\n",
              "    <tr>\n",
              "      <th>Date</th>\n",
              "      <th></th>\n",
              "      <th></th>\n",
              "      <th></th>\n",
              "      <th></th>\n",
              "      <th></th>\n",
              "      <th></th>\n",
              "      <th></th>\n",
              "      <th></th>\n",
              "      <th></th>\n",
              "      <th></th>\n",
              "      <th></th>\n",
              "      <th></th>\n",
              "      <th></th>\n",
              "      <th></th>\n",
              "      <th></th>\n",
              "      <th></th>\n",
              "      <th></th>\n",
              "      <th></th>\n",
              "      <th></th>\n",
              "      <th></th>\n",
              "      <th></th>\n",
              "      <th></th>\n",
              "      <th></th>\n",
              "      <th></th>\n",
              "    </tr>\n",
              "  </thead>\n",
              "  <tbody>\n",
              "    <tr>\n",
              "      <th>2014-04-01</th>\n",
              "      <td>2014-04-01</td>\n",
              "      <td>0.0</td>\n",
              "      <td>31.0</td>\n",
              "      <td>4.0</td>\n",
              "      <td>129.0</td>\n",
              "      <td>107.0</td>\n",
              "      <td>0.16467</td>\n",
              "      <td>30000.0</td>\n",
              "      <td>1.0</td>\n",
              "      <td>1.0</td>\n",
              "      <td>1.000000</td>\n",
              "      <td>1.0</td>\n",
              "      <td>0.0</td>\n",
              "      <td>False</td>\n",
              "      <td>902.4</td>\n",
              "      <td>4.0</td>\n",
              "      <td>73.8</td>\n",
              "      <td>4.0</td>\n",
              "      <td>66.0</td>\n",
              "      <td>8.0</td>\n",
              "      <td>42.9</td>\n",
              "      <td>0.0</td>\n",
              "      <td>0.0</td>\n",
              "      <td>77.400</td>\n",
              "    </tr>\n",
              "    <tr>\n",
              "      <th>2014-04-02</th>\n",
              "      <td>2014-04-02</td>\n",
              "      <td>150.0</td>\n",
              "      <td>0.0</td>\n",
              "      <td>-14.0</td>\n",
              "      <td>148.0</td>\n",
              "      <td>116.0</td>\n",
              "      <td>0.15557</td>\n",
              "      <td>30000.0</td>\n",
              "      <td>1.0</td>\n",
              "      <td>1.0</td>\n",
              "      <td>1.000000</td>\n",
              "      <td>1.0</td>\n",
              "      <td>0.0</td>\n",
              "      <td>False</td>\n",
              "      <td>902.4</td>\n",
              "      <td>4.0</td>\n",
              "      <td>73.8</td>\n",
              "      <td>4.0</td>\n",
              "      <td>66.0</td>\n",
              "      <td>8.0</td>\n",
              "      <td>42.9</td>\n",
              "      <td>0.0</td>\n",
              "      <td>0.0</td>\n",
              "      <td>77.400</td>\n",
              "    </tr>\n",
              "    <tr>\n",
              "      <th>2014-04-03</th>\n",
              "      <td>2014-04-03</td>\n",
              "      <td>150.0</td>\n",
              "      <td>10.0</td>\n",
              "      <td>6.0</td>\n",
              "      <td>132.0</td>\n",
              "      <td>118.0</td>\n",
              "      <td>0.14765</td>\n",
              "      <td>30000.0</td>\n",
              "      <td>1.0</td>\n",
              "      <td>1.0</td>\n",
              "      <td>0.291667</td>\n",
              "      <td>1.0</td>\n",
              "      <td>0.0</td>\n",
              "      <td>False</td>\n",
              "      <td>902.4</td>\n",
              "      <td>4.0</td>\n",
              "      <td>73.8</td>\n",
              "      <td>4.0</td>\n",
              "      <td>66.0</td>\n",
              "      <td>8.0</td>\n",
              "      <td>42.9</td>\n",
              "      <td>0.0</td>\n",
              "      <td>0.0</td>\n",
              "      <td>59.125</td>\n",
              "    </tr>\n",
              "    <tr>\n",
              "      <th>2014-04-04</th>\n",
              "      <td>2014-04-04</td>\n",
              "      <td>150.0</td>\n",
              "      <td>19.0</td>\n",
              "      <td>6.0</td>\n",
              "      <td>150.0</td>\n",
              "      <td>118.0</td>\n",
              "      <td>0.13716</td>\n",
              "      <td>30000.0</td>\n",
              "      <td>1.0</td>\n",
              "      <td>1.0</td>\n",
              "      <td>0.250000</td>\n",
              "      <td>1.0</td>\n",
              "      <td>0.0</td>\n",
              "      <td>False</td>\n",
              "      <td>902.4</td>\n",
              "      <td>4.0</td>\n",
              "      <td>73.8</td>\n",
              "      <td>4.0</td>\n",
              "      <td>66.0</td>\n",
              "      <td>8.0</td>\n",
              "      <td>42.9</td>\n",
              "      <td>0.0</td>\n",
              "      <td>0.0</td>\n",
              "      <td>58.050</td>\n",
              "    </tr>\n",
              "    <tr>\n",
              "      <th>2014-04-05</th>\n",
              "      <td>2014-04-05</td>\n",
              "      <td>180.0</td>\n",
              "      <td>41.0</td>\n",
              "      <td>15.0</td>\n",
              "      <td>148.0</td>\n",
              "      <td>124.0</td>\n",
              "      <td>0.13091</td>\n",
              "      <td>30000.0</td>\n",
              "      <td>1.0</td>\n",
              "      <td>1.0</td>\n",
              "      <td>1.000000</td>\n",
              "      <td>1.0</td>\n",
              "      <td>0.0</td>\n",
              "      <td>True</td>\n",
              "      <td>897.6</td>\n",
              "      <td>4.0</td>\n",
              "      <td>72.6</td>\n",
              "      <td>4.0</td>\n",
              "      <td>66.0</td>\n",
              "      <td>8.0</td>\n",
              "      <td>42.9</td>\n",
              "      <td>0.0</td>\n",
              "      <td>0.0</td>\n",
              "      <td>77.400</td>\n",
              "    </tr>\n",
              "  </tbody>\n",
              "</table>\n",
              "</div>"
            ],
            "text/plain": [
              "                 Date  Min prod  ...  PrioP4  TotalAvailablePower\n",
              "Date                             ...                             \n",
              "2014-04-01 2014-04-01       0.0  ...     0.0               77.400\n",
              "2014-04-02 2014-04-02     150.0  ...     0.0               77.400\n",
              "2014-04-03 2014-04-03     150.0  ...     0.0               59.125\n",
              "2014-04-04 2014-04-04     150.0  ...     0.0               58.050\n",
              "2014-04-05 2014-04-05     180.0  ...     0.0               77.400\n",
              "\n",
              "[5 rows x 24 columns]"
            ]
          },
          "metadata": {
            "tags": []
          },
          "execution_count": 14
        }
      ]
    },
    {
      "cell_type": "markdown",
      "metadata": {
        "id": "O49yOWfj8RXa",
        "colab_type": "text"
      },
      "source": [
        "### Target variable for Prediction\n",
        "\n",
        "We will try and predict the future maximum production, contained in column \"Max prod\""
      ]
    },
    {
      "cell_type": "code",
      "metadata": {
        "ExecuteTime": {
          "end_time": "2019-09-15T07:36:50.777236Z",
          "start_time": "2019-09-15T07:36:50.773239Z"
        },
        "id": "jMH9xEe_8RXa",
        "colab_type": "code",
        "colab": {}
      },
      "source": [
        "target_names = ['Max prod']"
      ],
      "execution_count": 0,
      "outputs": []
    },
    {
      "cell_type": "code",
      "metadata": {
        "ExecuteTime": {
          "end_time": "2019-09-15T07:36:51.326523Z",
          "start_time": "2019-09-15T07:36:51.317545Z"
        },
        "id": "o7WwZjrm8RXc",
        "colab_type": "code",
        "colab": {
          "base_uri": "https://localhost:8080/",
          "height": 225
        },
        "outputId": "4ff93bfd-eb86-4e91-9124-f3a3f082d9e8"
      },
      "source": [
        "\n",
        "\n",
        "\n",
        "\n",
        "df_targets = df[target_names]\n",
        "df_targets.tail()"
      ],
      "execution_count": 16,
      "outputs": [
        {
          "output_type": "execute_result",
          "data": {
            "text/html": [
              "<div>\n",
              "<style scoped>\n",
              "    .dataframe tbody tr th:only-of-type {\n",
              "        vertical-align: middle;\n",
              "    }\n",
              "\n",
              "    .dataframe tbody tr th {\n",
              "        vertical-align: top;\n",
              "    }\n",
              "\n",
              "    .dataframe thead th {\n",
              "        text-align: right;\n",
              "    }\n",
              "</style>\n",
              "<table border=\"1\" class=\"dataframe\">\n",
              "  <thead>\n",
              "    <tr style=\"text-align: right;\">\n",
              "      <th></th>\n",
              "      <th>Max prod</th>\n",
              "    </tr>\n",
              "    <tr>\n",
              "      <th>Date</th>\n",
              "      <th></th>\n",
              "    </tr>\n",
              "  </thead>\n",
              "  <tbody>\n",
              "    <tr>\n",
              "      <th>2019-06-26</th>\n",
              "      <td>314.759725</td>\n",
              "    </tr>\n",
              "    <tr>\n",
              "      <th>2019-06-27</th>\n",
              "      <td>326.450801</td>\n",
              "    </tr>\n",
              "    <tr>\n",
              "      <th>2019-06-28</th>\n",
              "      <td>283.883295</td>\n",
              "    </tr>\n",
              "    <tr>\n",
              "      <th>2019-06-29</th>\n",
              "      <td>253.906178</td>\n",
              "    </tr>\n",
              "    <tr>\n",
              "      <th>2019-06-30</th>\n",
              "      <td>253.906178</td>\n",
              "    </tr>\n",
              "  </tbody>\n",
              "</table>\n",
              "</div>"
            ],
            "text/plain": [
              "              Max prod\n",
              "Date                  \n",
              "2019-06-26  314.759725\n",
              "2019-06-27  326.450801\n",
              "2019-06-28  283.883295\n",
              "2019-06-29  253.906178\n",
              "2019-06-30  253.906178"
            ]
          },
          "metadata": {
            "tags": []
          },
          "execution_count": 16
        }
      ]
    },
    {
      "cell_type": "markdown",
      "metadata": {
        "id": "9--hf9_F8RXe",
        "colab_type": "text"
      },
      "source": [
        "### NumPy Arrays\n",
        "\n",
        "We now convert the inputs that can be sent to the neural network. \n",
        "\n",
        "These are the input variables:"
      ]
    },
    {
      "cell_type": "code",
      "metadata": {
        "ExecuteTime": {
          "end_time": "2019-09-15T07:36:53.754243Z",
          "start_time": "2019-09-15T07:36:53.749256Z"
        },
        "id": "28a7y3Mb8RXf",
        "colab_type": "code",
        "colab": {}
      },
      "source": [
        "regressors = ['Inflow lake 1 [m3]', \\\n",
        "           'Inflow lake 2 [m3]', 'Inflow lake 3 [m3]', 'Inflow lake 4 [m3]', \\\n",
        "           'Vol lake 1 [%]', 'Max lake 1 [1000m3]', 'Availability plant 1 [%]', \\\n",
        "           'Availability plant 2 [%]', 'Availability plant 3 [%]', \\\n",
        "           'Availability plant 4 [%]']\n",
        "\n",
        "x_data = df[regressors].values"
      ],
      "execution_count": 0,
      "outputs": []
    },
    {
      "cell_type": "code",
      "metadata": {
        "ExecuteTime": {
          "end_time": "2019-09-15T07:36:54.417253Z",
          "start_time": "2019-09-15T07:36:54.414263Z"
        },
        "id": "tAZYvOET8RXi",
        "colab_type": "code",
        "colab": {
          "base_uri": "https://localhost:8080/",
          "height": 52
        },
        "outputId": "e4fd62ed-9a20-467f-907c-019dfed76974"
      },
      "source": [
        "print(type(x_data))\n",
        "print(\"Shape:\", x_data.shape)"
      ],
      "execution_count": 18,
      "outputs": [
        {
          "output_type": "stream",
          "text": [
            "<class 'numpy.ndarray'>\n",
            "Shape: (1917, 10)\n"
          ],
          "name": "stdout"
        }
      ]
    },
    {
      "cell_type": "markdown",
      "metadata": {
        "id": "ABydTATw8RXk",
        "colab_type": "text"
      },
      "source": [
        "These are the target variables:"
      ]
    },
    {
      "cell_type": "code",
      "metadata": {
        "ExecuteTime": {
          "end_time": "2019-09-15T07:36:56.136147Z",
          "start_time": "2019-09-15T07:36:56.133150Z"
        },
        "id": "9ag0HJOw8RXl",
        "colab_type": "code",
        "colab": {}
      },
      "source": [
        "y_data = df_targets.values"
      ],
      "execution_count": 0,
      "outputs": []
    },
    {
      "cell_type": "code",
      "metadata": {
        "ExecuteTime": {
          "end_time": "2019-09-15T07:36:56.656228Z",
          "start_time": "2019-09-15T07:36:56.653246Z"
        },
        "scrolled": true,
        "id": "cCIMYkbP8RXn",
        "colab_type": "code",
        "colab": {
          "base_uri": "https://localhost:8080/",
          "height": 52
        },
        "outputId": "721e5603-eb0c-4f30-bafd-03f41f5b636c"
      },
      "source": [
        "print(type(y_data))\n",
        "print(\"Shape:\", y_data.shape)"
      ],
      "execution_count": 20,
      "outputs": [
        {
          "output_type": "stream",
          "text": [
            "<class 'numpy.ndarray'>\n",
            "Shape: (1917, 1)\n"
          ],
          "name": "stdout"
        }
      ]
    },
    {
      "cell_type": "markdown",
      "metadata": {
        "id": "jQRP_ccc8RXp",
        "colab_type": "text"
      },
      "source": [
        "Number of observations in our dataset:"
      ]
    },
    {
      "cell_type": "code",
      "metadata": {
        "ExecuteTime": {
          "end_time": "2019-09-15T07:36:57.617628Z",
          "start_time": "2019-09-15T07:36:57.613631Z"
        },
        "id": "qYBuhuxY8RXq",
        "colab_type": "code",
        "colab": {
          "base_uri": "https://localhost:8080/",
          "height": 34
        },
        "outputId": "e91ef21a-aa81-4d5a-ae47-326c91253e82"
      },
      "source": [
        "num_data = len(x_data)\n",
        "num_data"
      ],
      "execution_count": 21,
      "outputs": [
        {
          "output_type": "execute_result",
          "data": {
            "text/plain": [
              "1917"
            ]
          },
          "metadata": {
            "tags": []
          },
          "execution_count": 21
        }
      ]
    },
    {
      "cell_type": "markdown",
      "metadata": {
        "id": "_MEdflg28RXs",
        "colab_type": "text"
      },
      "source": [
        "This is train / test split, same as in other parts of the project"
      ]
    },
    {
      "cell_type": "code",
      "metadata": {
        "ExecuteTime": {
          "end_time": "2019-09-15T07:36:58.527830Z",
          "start_time": "2019-09-15T07:36:58.524832Z"
        },
        "id": "HZPyHvgf8RXt",
        "colab_type": "code",
        "colab": {}
      },
      "source": [
        "train_split = 0.9"
      ],
      "execution_count": 0,
      "outputs": []
    },
    {
      "cell_type": "markdown",
      "metadata": {
        "id": "0Trz8Vfc8RXv",
        "colab_type": "text"
      },
      "source": [
        "Hence number of observations in the training subset:"
      ]
    },
    {
      "cell_type": "code",
      "metadata": {
        "ExecuteTime": {
          "end_time": "2019-09-15T07:36:59.378224Z",
          "start_time": "2019-09-15T07:36:59.374238Z"
        },
        "id": "SlsELXfm8RXw",
        "colab_type": "code",
        "colab": {
          "base_uri": "https://localhost:8080/",
          "height": 34
        },
        "outputId": "58427b3f-cee5-4056-fef0-4a5258ed7ea7"
      },
      "source": [
        "num_train = int(train_split * num_data)\n",
        "num_train"
      ],
      "execution_count": 23,
      "outputs": [
        {
          "output_type": "execute_result",
          "data": {
            "text/plain": [
              "1725"
            ]
          },
          "metadata": {
            "tags": []
          },
          "execution_count": 23
        }
      ]
    },
    {
      "cell_type": "markdown",
      "metadata": {
        "id": "s59x0fOu8RX4",
        "colab_type": "text"
      },
      "source": [
        "And in the test dataset:"
      ]
    },
    {
      "cell_type": "code",
      "metadata": {
        "ExecuteTime": {
          "end_time": "2019-09-15T07:37:00.248723Z",
          "start_time": "2019-09-15T07:37:00.244726Z"
        },
        "id": "4AT29Y5S8RX5",
        "colab_type": "code",
        "colab": {
          "base_uri": "https://localhost:8080/",
          "height": 34
        },
        "outputId": "7b64a9da-27dc-492c-fccc-e893ca1abe04"
      },
      "source": [
        "num_test = num_data - num_train\n",
        "num_test"
      ],
      "execution_count": 24,
      "outputs": [
        {
          "output_type": "execute_result",
          "data": {
            "text/plain": [
              "192"
            ]
          },
          "metadata": {
            "tags": []
          },
          "execution_count": 24
        }
      ]
    },
    {
      "cell_type": "markdown",
      "metadata": {
        "id": "3AI26KNd8RX7",
        "colab_type": "text"
      },
      "source": [
        "Input variables for the training and test subsets:"
      ]
    },
    {
      "cell_type": "code",
      "metadata": {
        "ExecuteTime": {
          "end_time": "2019-09-15T07:37:01.200850Z",
          "start_time": "2019-09-15T07:37:01.196863Z"
        },
        "id": "QR1eQ_H88RX8",
        "colab_type": "code",
        "colab": {
          "base_uri": "https://localhost:8080/",
          "height": 34
        },
        "outputId": "e011b1f5-a18d-463e-f0c9-974d59d0d6e7"
      },
      "source": [
        "x_train = x_data[0:num_train]\n",
        "x_test = x_data[num_train:]\n",
        "len(x_train) + len(x_test)"
      ],
      "execution_count": 25,
      "outputs": [
        {
          "output_type": "execute_result",
          "data": {
            "text/plain": [
              "1917"
            ]
          },
          "metadata": {
            "tags": []
          },
          "execution_count": 25
        }
      ]
    },
    {
      "cell_type": "markdown",
      "metadata": {
        "id": "a1o1v7Bc8RX_",
        "colab_type": "text"
      },
      "source": [
        "Output variables for the training and test subsets:"
      ]
    },
    {
      "cell_type": "code",
      "metadata": {
        "ExecuteTime": {
          "end_time": "2019-09-15T07:37:02.097214Z",
          "start_time": "2019-09-15T07:37:02.093229Z"
        },
        "id": "Lgu25kjK8RYA",
        "colab_type": "code",
        "colab": {
          "base_uri": "https://localhost:8080/",
          "height": 34
        },
        "outputId": "4ebe5288-b8ae-4582-ea16-78c54cf5672a"
      },
      "source": [
        "y_train = y_data[0:num_train]\n",
        "y_test = y_data[num_train:]\n",
        "len(y_train) + len(y_test)"
      ],
      "execution_count": 26,
      "outputs": [
        {
          "output_type": "execute_result",
          "data": {
            "text/plain": [
              "1917"
            ]
          },
          "metadata": {
            "tags": []
          },
          "execution_count": 26
        }
      ]
    },
    {
      "cell_type": "markdown",
      "metadata": {
        "id": "JErlUP8V8RYE",
        "colab_type": "text"
      },
      "source": [
        "Number of variables as inputs:"
      ]
    },
    {
      "cell_type": "code",
      "metadata": {
        "ExecuteTime": {
          "end_time": "2019-09-15T07:37:02.889019Z",
          "start_time": "2019-09-15T07:37:02.885022Z"
        },
        "id": "U0n1ouCB8RYF",
        "colab_type": "code",
        "colab": {
          "base_uri": "https://localhost:8080/",
          "height": 34
        },
        "outputId": "bef28d98-637d-4709-dc9d-79b4087036fc"
      },
      "source": [
        "num_x_signals = x_data.shape[1]\n",
        "num_x_signals"
      ],
      "execution_count": 27,
      "outputs": [
        {
          "output_type": "execute_result",
          "data": {
            "text/plain": [
              "10"
            ]
          },
          "metadata": {
            "tags": []
          },
          "execution_count": 27
        }
      ]
    },
    {
      "cell_type": "markdown",
      "metadata": {
        "id": "WeRKCeg48RYH",
        "colab_type": "text"
      },
      "source": [
        "Number of variables as outptuts:"
      ]
    },
    {
      "cell_type": "code",
      "metadata": {
        "ExecuteTime": {
          "end_time": "2019-09-15T07:37:04.096201Z",
          "start_time": "2019-09-15T07:37:04.093220Z"
        },
        "scrolled": true,
        "id": "GkhpHOst8RYH",
        "colab_type": "code",
        "colab": {
          "base_uri": "https://localhost:8080/",
          "height": 34
        },
        "outputId": "60d50615-3716-4f06-97e6-2a9fcd002256"
      },
      "source": [
        "num_y_signals = y_data.shape[1]\n",
        "num_y_signals"
      ],
      "execution_count": 28,
      "outputs": [
        {
          "output_type": "execute_result",
          "data": {
            "text/plain": [
              "1"
            ]
          },
          "metadata": {
            "tags": []
          },
          "execution_count": 28
        }
      ]
    },
    {
      "cell_type": "markdown",
      "metadata": {
        "id": "OWlZW5498RYJ",
        "colab_type": "text"
      },
      "source": [
        "### Scaling our Data\n",
        "\n",
        "Check out the range of values\n"
      ]
    },
    {
      "cell_type": "code",
      "metadata": {
        "ExecuteTime": {
          "end_time": "2019-09-15T07:37:06.401573Z",
          "start_time": "2019-09-15T07:37:06.397575Z"
        },
        "id": "1Up9mBBK8RYK",
        "colab_type": "code",
        "colab": {
          "base_uri": "https://localhost:8080/",
          "height": 52
        },
        "outputId": "eda9c181-b9fb-455f-b212-089a9b8d7b26"
      },
      "source": [
        "print(\"Min:\", np.min(x_train))\n",
        "print(\"Max:\", np.max(x_train))"
      ],
      "execution_count": 29,
      "outputs": [
        {
          "output_type": "stream",
          "text": [
            "Min: -482.0\n",
            "Max: 30000.0\n"
          ],
          "name": "stdout"
        }
      ]
    },
    {
      "cell_type": "markdown",
      "metadata": {
        "id": "ChqJxt-A8RYL",
        "colab_type": "text"
      },
      "source": [
        "Neural networks usually work best with values between -1 and 1, therefore we need to scale the input data before it is fed into to the neural network. \n",
        "\n",
        "The scaler object hels us doing this:"
      ]
    },
    {
      "cell_type": "code",
      "metadata": {
        "ExecuteTime": {
          "end_time": "2019-09-15T07:37:07.504947Z",
          "start_time": "2019-09-15T07:37:07.500950Z"
        },
        "id": "ahMgEcNN8RYM",
        "colab_type": "code",
        "colab": {}
      },
      "source": [
        "x_scaler = MinMaxScaler()"
      ],
      "execution_count": 0,
      "outputs": []
    },
    {
      "cell_type": "markdown",
      "metadata": {
        "id": "HN3clwZ48RYN",
        "colab_type": "text"
      },
      "source": [
        "Let's apply it to the input data"
      ]
    },
    {
      "cell_type": "code",
      "metadata": {
        "ExecuteTime": {
          "end_time": "2019-09-15T07:37:08.081185Z",
          "start_time": "2019-09-15T07:37:08.077204Z"
        },
        "id": "Xc2fT6068RYO",
        "colab_type": "code",
        "colab": {}
      },
      "source": [
        "x_train_scaled = x_scaler.fit_transform(x_train)"
      ],
      "execution_count": 0,
      "outputs": []
    },
    {
      "cell_type": "markdown",
      "metadata": {
        "id": "N92A0kUw8RYR",
        "colab_type": "text"
      },
      "source": [
        "Except for rounding, it now scaled between 0 and 1."
      ]
    },
    {
      "cell_type": "code",
      "metadata": {
        "ExecuteTime": {
          "end_time": "2019-09-15T07:37:08.743926Z",
          "start_time": "2019-09-15T07:37:08.740928Z"
        },
        "id": "N9VwU7eL8RYS",
        "colab_type": "code",
        "colab": {
          "base_uri": "https://localhost:8080/",
          "height": 52
        },
        "outputId": "ad48f294-caf1-433f-9d54-f87344a0615f"
      },
      "source": [
        "print(\"Min:\", np.min(x_train_scaled))\n",
        "print(\"Max:\", np.max(x_train_scaled))"
      ],
      "execution_count": 32,
      "outputs": [
        {
          "output_type": "stream",
          "text": [
            "Min: 0.0\n",
            "Max: 1.0000000000000002\n"
          ],
          "name": "stdout"
        }
      ]
    },
    {
      "cell_type": "markdown",
      "metadata": {
        "id": "4zJ6Z_kV8RYW",
        "colab_type": "text"
      },
      "source": [
        "We use the same scaler on the test data:"
      ]
    },
    {
      "cell_type": "code",
      "metadata": {
        "ExecuteTime": {
          "end_time": "2019-09-15T07:37:09.385200Z",
          "start_time": "2019-09-15T07:37:09.382201Z"
        },
        "id": "DWTR6gFk8RYW",
        "colab_type": "code",
        "colab": {}
      },
      "source": [
        "x_test_scaled = x_scaler.transform(x_test)"
      ],
      "execution_count": 0,
      "outputs": []
    },
    {
      "cell_type": "markdown",
      "metadata": {
        "id": "_3V0L29d8RYX",
        "colab_type": "text"
      },
      "source": [
        "Target values comes from the same dataset but it could have a diffferentrange of values, therefore we use another scaler:"
      ]
    },
    {
      "cell_type": "code",
      "metadata": {
        "ExecuteTime": {
          "end_time": "2019-09-15T07:37:09.809395Z",
          "start_time": "2019-09-15T07:37:09.805379Z"
        },
        "id": "QYerbXXD8RYY",
        "colab_type": "code",
        "colab": {}
      },
      "source": [
        "y_scaler = MinMaxScaler()\n",
        "y_train_scaled = y_scaler.fit_transform(y_train)\n",
        "y_test_scaled = y_scaler.transform(y_test)"
      ],
      "execution_count": 0,
      "outputs": []
    },
    {
      "cell_type": "markdown",
      "metadata": {
        "id": "Dw__jwWM8RYe",
        "colab_type": "text"
      },
      "source": [
        "## Data Generator\n",
        "\n",
        "Our data is now in the form of a 2-dimension array. The training dataset has got 1725 observations, taht consist of 10 input and 1 output.\n"
      ]
    },
    {
      "cell_type": "code",
      "metadata": {
        "ExecuteTime": {
          "end_time": "2019-09-15T07:37:56.808024Z",
          "start_time": "2019-09-15T07:37:56.805020Z"
        },
        "id": "cJTvWjX88RYe",
        "colab_type": "code",
        "colab": {
          "base_uri": "https://localhost:8080/",
          "height": 52
        },
        "outputId": "a62298e6-32b6-44fa-9854-f219310582c4"
      },
      "source": [
        "print(x_train_scaled.shape)\n",
        "print(y_train_scaled.shape)"
      ],
      "execution_count": 35,
      "outputs": [
        {
          "output_type": "stream",
          "text": [
            "(1725, 10)\n",
            "(1725, 1)\n"
          ],
          "name": "stdout"
        }
      ]
    },
    {
      "cell_type": "markdown",
      "metadata": {
        "id": "b5q5Qd898RYh",
        "colab_type": "text"
      },
      "source": [
        "\n",
        "\n",
        "\n",
        "Instead of training the Recurrent Neural Network on the complete sequences of 1725 observations, we will use a function to create many batches of short subsequences randomly chosen in the training dataset:"
      ]
    },
    {
      "cell_type": "code",
      "metadata": {
        "ExecuteTime": {
          "end_time": "2019-09-15T07:38:19.154800Z",
          "start_time": "2019-09-15T07:38:19.148818Z"
        },
        "id": "2tmJB7lk8RYi",
        "colab_type": "code",
        "colab": {}
      },
      "source": [
        "def batch_generator(batch_size, sequence_length):\n",
        "    \"\"\"\n",
        "    Generator function for creating random batches of training-data.\n",
        "    \"\"\"\n",
        "\n",
        "    # Infinite loop.\n",
        "    while True:\n",
        "        # Allocate a new array for the batch of input-signals.\n",
        "        x_shape = (batch_size, sequence_length, num_x_signals)\n",
        "        x_batch = np.zeros(shape=x_shape, dtype=np.float16)\n",
        "\n",
        "        # Allocate a new array for the batch of output-signals.\n",
        "        y_shape = (batch_size, sequence_length, num_y_signals)\n",
        "        y_batch = np.zeros(shape=y_shape, dtype=np.float16)\n",
        "\n",
        "        # Fill the batch with random sequences of data.\n",
        "        for i in range(batch_size):\n",
        "            # Get a random start-index.\n",
        "            # This points somewhere into the training-data.\n",
        "            idx = np.random.randint(num_train - sequence_length)\n",
        "            \n",
        "            # Copy the sequences of data starting at this index.\n",
        "            x_batch[i] = x_train_scaled[idx:idx+sequence_length]\n",
        "            y_batch[i] = y_train_scaled[idx:idx+sequence_length]\n",
        "        \n",
        "        yield (x_batch, y_batch)"
      ],
      "execution_count": 0,
      "outputs": []
    },
    {
      "cell_type": "markdown",
      "metadata": {
        "id": "DdZG0HmN8RYl",
        "colab_type": "text"
      },
      "source": [
        "A large batch size is required to keep the GPU busy, i.e. at 100% workload. "
      ]
    },
    {
      "cell_type": "code",
      "metadata": {
        "ExecuteTime": {
          "end_time": "2019-09-15T07:38:26.096145Z",
          "start_time": "2019-09-15T07:38:26.093147Z"
        },
        "id": "SpEJSYMn8RYl",
        "colab_type": "code",
        "colab": {}
      },
      "source": [
        "batch_size = 256"
      ],
      "execution_count": 0,
      "outputs": []
    },
    {
      "cell_type": "markdown",
      "metadata": {
        "id": "oAakOzRD8RYn",
        "colab_type": "text"
      },
      "source": [
        "We will use a sequence-length of 56, which means that each random sequence contains observations for 8 weeks"
      ]
    },
    {
      "cell_type": "code",
      "metadata": {
        "ExecuteTime": {
          "end_time": "2019-09-15T07:39:38.809667Z",
          "start_time": "2019-09-15T07:39:38.804671Z"
        },
        "id": "JmtyCWlo8RYn",
        "colab_type": "code",
        "colab": {
          "base_uri": "https://localhost:8080/",
          "height": 34
        },
        "outputId": "d3616934-5049-49bd-ce07-d252fccb4fcb"
      },
      "source": [
        "sequence_length = 1 * 7 * 8\n",
        "sequence_length"
      ],
      "execution_count": 40,
      "outputs": [
        {
          "output_type": "execute_result",
          "data": {
            "text/plain": [
              "56"
            ]
          },
          "metadata": {
            "tags": []
          },
          "execution_count": 40
        }
      ]
    },
    {
      "cell_type": "markdown",
      "metadata": {
        "id": "jUv86chd8RYp",
        "colab_type": "text"
      },
      "source": [
        "And here is the generator object:"
      ]
    },
    {
      "cell_type": "code",
      "metadata": {
        "ExecuteTime": {
          "end_time": "2019-09-15T07:39:43.024336Z",
          "start_time": "2019-09-15T07:39:43.020345Z"
        },
        "id": "X4YeTwLT8RYp",
        "colab_type": "code",
        "colab": {}
      },
      "source": [
        "generator = batch_generator(batch_size=batch_size,\n",
        "                            sequence_length=sequence_length)"
      ],
      "execution_count": 0,
      "outputs": []
    },
    {
      "cell_type": "markdown",
      "metadata": {
        "id": "_Vz6JfFU8RYs",
        "colab_type": "text"
      },
      "source": [
        "Check out the generator"
      ]
    },
    {
      "cell_type": "code",
      "metadata": {
        "ExecuteTime": {
          "end_time": "2019-09-15T07:39:46.016385Z",
          "start_time": "2019-09-15T07:39:46.004394Z"
        },
        "id": "-Z0cSQpA8RYs",
        "colab_type": "code",
        "colab": {}
      },
      "source": [
        "x_batch, y_batch = next(generator)"
      ],
      "execution_count": 0,
      "outputs": []
    },
    {
      "cell_type": "markdown",
      "metadata": {
        "id": "cAodF3Ac8RYu",
        "colab_type": "text"
      },
      "source": [
        "It deliver a batch of length 256 at randon, each sequence has 56 samples, and each sampole has 10 variables in input and 1 in output."
      ]
    },
    {
      "cell_type": "code",
      "metadata": {
        "ExecuteTime": {
          "end_time": "2019-09-15T07:39:49.097629Z",
          "start_time": "2019-09-15T07:39:49.093631Z"
        },
        "id": "IZd1egJo8RYw",
        "colab_type": "code",
        "colab": {
          "base_uri": "https://localhost:8080/",
          "height": 52
        },
        "outputId": "82531301-d80a-4d9b-e818-7c813d2eba31"
      },
      "source": [
        "print(x_batch.shape)\n",
        "print(y_batch.shape)"
      ],
      "execution_count": 43,
      "outputs": [
        {
          "output_type": "stream",
          "text": [
            "(256, 56, 10)\n",
            "(256, 56, 1)\n"
          ],
          "name": "stdout"
        }
      ]
    },
    {
      "cell_type": "markdown",
      "metadata": {
        "id": "DZ-ggNHm8RYy",
        "colab_type": "text"
      },
      "source": [
        "We can plot one of the 10 input-signals as an example."
      ]
    },
    {
      "cell_type": "code",
      "metadata": {
        "ExecuteTime": {
          "end_time": "2019-09-15T07:40:09.431428Z",
          "start_time": "2019-09-15T07:40:09.220736Z"
        },
        "id": "BydwQ6b_8RYz",
        "colab_type": "code",
        "colab": {
          "base_uri": "https://localhost:8080/",
          "height": 286
        },
        "outputId": "611be243-d076-4310-d72f-7a3206c11fd5"
      },
      "source": [
        "batch = 0   # First sequence in the batch.\n",
        "signal = 0  # First signal from the 20 input-signals.\n",
        "seq = x_batch[batch, :, signal]\n",
        "plt.plot(seq)"
      ],
      "execution_count": 44,
      "outputs": [
        {
          "output_type": "execute_result",
          "data": {
            "text/plain": [
              "[<matplotlib.lines.Line2D at 0x7f3ed9f846a0>]"
            ]
          },
          "metadata": {
            "tags": []
          },
          "execution_count": 44
        },
        {
          "output_type": "display_data",
          "data": {
            "image/png": "[encoded data removed]",
            "text/plain": [
              "<Figure size 432x288 with 1 Axes>"
            ]
          },
          "metadata": {
            "tags": []
          }
        }
      ]
    },
    {
      "cell_type": "markdown",
      "metadata": {
        "id": "KSgp32E_8RY1",
        "colab_type": "text"
      },
      "source": [
        "Same for one of the outputs"
      ]
    },
    {
      "cell_type": "code",
      "metadata": {
        "ExecuteTime": {
          "end_time": "2019-09-15T07:40:26.485860Z",
          "start_time": "2019-09-15T07:40:26.325952Z"
        },
        "id": "FxigBI9v8RY2",
        "colab_type": "code",
        "colab": {
          "base_uri": "https://localhost:8080/",
          "height": 286
        },
        "outputId": "5c466c59-f61c-4867-a9f3-582aeef2b3a5"
      },
      "source": [
        "seq = y_batch[batch, :, signal]\n",
        "plt.plot(seq)"
      ],
      "execution_count": 45,
      "outputs": [
        {
          "output_type": "execute_result",
          "data": {
            "text/plain": [
              "[<matplotlib.lines.Line2D at 0x7f3ed77109b0>]"
            ]
          },
          "metadata": {
            "tags": []
          },
          "execution_count": 45
        },
        {
          "output_type": "display_data",
          "data": {
            "image/png": "[encoded data removed]",
            "text/plain": [
              "<Figure size 432x288 with 1 Axes>"
            ]
          },
          "metadata": {
            "tags": []
          }
        }
      ]
    },
    {
      "cell_type": "markdown",
      "metadata": {
        "id": "i2iaaoYP8RY3",
        "colab_type": "text"
      },
      "source": [
        "### Validation Set\n",
        "\n",
        "The neural network trains quickly so we can easily run many training epochs. But then there is a risk of overfitting the model to the training-set so it does not generalize well to unseen data. We will therefore monitor the model's performance on the test-set after each epoch and only save the model's weights if the performance is improved on the test-set.\n",
        "\n",
        "The batch-generator randomly selects a batch of short sequences from the training-data and uses that during training. But for the validation-data we will instead run through the entire sequence from the test-set and measure the prediction accuracy on that entire sequence."
      ]
    },
    {
      "cell_type": "code",
      "metadata": {
        "ExecuteTime": {
          "end_time": "2019-09-15T07:40:43.736220Z",
          "start_time": "2019-09-15T07:40:43.732239Z"
        },
        "id": "f_6gaPeO8RY4",
        "colab_type": "code",
        "colab": {}
      },
      "source": [
        "validation_data = (np.expand_dims(x_test_scaled, axis=0),\n",
        "                   np.expand_dims(y_test_scaled, axis=0))"
      ],
      "execution_count": 0,
      "outputs": []
    },
    {
      "cell_type": "markdown",
      "metadata": {
        "id": "2X0zfvmy8RY8",
        "colab_type": "text"
      },
      "source": [
        "## Create the Recurrent Neural Network\n",
        "\n",
        "We are now ready to create the Recurrent Neural Network (RNN). We will use the Keras API for this because of its simplicity."
      ]
    },
    {
      "cell_type": "code",
      "metadata": {
        "ExecuteTime": {
          "end_time": "2019-09-15T07:41:23.188273Z",
          "start_time": "2019-09-15T07:41:23.140280Z"
        },
        "id": "Z5fxql3Z8RY8",
        "colab_type": "code",
        "colab": {}
      },
      "source": [
        "model = Sequential()"
      ],
      "execution_count": 0,
      "outputs": []
    },
    {
      "cell_type": "markdown",
      "metadata": {
        "id": "ZFWvDy8M8RY-",
        "colab_type": "text"
      },
      "source": [
        "We can now add 2 Gated Recurrent Unit (GRU) layers to the network. This will have 22 (15+7) outputs for each time-step in the sequence.\n",
        "\n",
        "We add drop out for normalization.\n",
        "\n",
        "Note that because this is the first layer in the model, Keras needs to know the shape of its input, which is a batch of sequences of arbitrary length (indicated by `None`), where each observation has a number of input-signals (`num_x_signals`)."
      ]
    },
    {
      "cell_type": "code",
      "metadata": {
        "ExecuteTime": {
          "end_time": "2019-09-15T07:41:58.571188Z",
          "start_time": "2019-09-15T07:41:58.388384Z"
        },
        "id": "t_nSFUFm8RY-",
        "colab_type": "code",
        "colab": {
          "base_uri": "https://localhost:8080/",
          "height": 90
        },
        "outputId": "d4e06ff7-258b-4496-8afa-248772e64a79"
      },
      "source": [
        "model.add(GRU(units=10,\n",
        "              return_sequences=True,\n",
        "              input_shape=(None, num_x_signals,)))\n",
        "model.add(Dropout(0.1))\n",
        "model.add(GRU(units=7,  \n",
        "              return_sequences=True))\n",
        "model.add(Dropout(0.1))"
      ],
      "execution_count": 48,
      "outputs": [
        {
          "output_type": "stream",
          "text": [
            "WARNING:tensorflow:From /usr/local/lib/python3.6/dist-packages/tensorflow/python/ops/init_ops.py:1251: calling VarianceScaling.__init__ (from tensorflow.python.ops.init_ops) with dtype is deprecated and will be removed in a future version.\n",
            "Instructions for updating:\n",
            "Call initializer instance with the dtype argument instead of passing it to the constructor\n"
          ],
          "name": "stdout"
        }
      ]
    },
    {
      "cell_type": "markdown",
      "metadata": {
        "id": "5e5sNmZu8RY_",
        "colab_type": "text"
      },
      "source": [
        "The GRU outputs a batch of sequences of 7 values. We want to predict 1 output-signal, so we add a fully-connected (or dense) layer which maps 7 values down to only 1 value.\n"
      ]
    },
    {
      "cell_type": "markdown",
      "metadata": {
        "id": "yAPxTIU38RZB",
        "colab_type": "text"
      },
      "source": [
        "\n",
        "We can use a linear activation function on the output. This allows for the output to take on arbitrary values. It might work with the standard initialization for a simple network architecture, but for more complicated network architectures e.g. with more layers, it might be necessary to initialize the weights with smaller values to avoid `NaN` values during training. "
      ]
    },
    {
      "cell_type": "code",
      "metadata": {
        "ExecuteTime": {
          "end_time": "2019-09-15T07:43:19.320577Z",
          "start_time": "2019-09-15T07:43:19.316593Z"
        },
        "id": "_WbmeBxt8RZB",
        "colab_type": "code",
        "colab": {
          "base_uri": "https://localhost:8080/",
          "height": 90
        },
        "outputId": "e0144191-dd1d-4fe5-af0d-911f4d8a7228"
      },
      "source": [
        "from tensorflow.python.keras.initializers import RandomUniform\n",
        "\n",
        "# Maybe use lower init-ranges.\n",
        "init = RandomUniform(minval=-0.05, maxval=0.05)\n",
        "\n",
        "model.add(Dense(num_y_signals,\n",
        "                activation='linear',\n",
        "                kernel_initializer=init))"
      ],
      "execution_count": 49,
      "outputs": [
        {
          "output_type": "stream",
          "text": [
            "WARNING:tensorflow:From /usr/local/lib/python3.6/dist-packages/tensorflow/python/keras/initializers.py:119: calling RandomUniform.__init__ (from tensorflow.python.ops.init_ops) with dtype is deprecated and will be removed in a future version.\n",
            "Instructions for updating:\n",
            "Call initializer instance with the dtype argument instead of passing it to the constructor\n"
          ],
          "name": "stdout"
        }
      ]
    },
    {
      "cell_type": "markdown",
      "metadata": {
        "id": "HSxhK7Zo8RZE",
        "colab_type": "text"
      },
      "source": [
        "### Loss Function\n",
        "\n",
        "We will use Mean Squared Error (MSE) as the loss-function that will be minimized. This measures how closely the model's output matches the true output signals.\n",
        "\n",
        "However, at the beginning of a sequence, the model has only seen input-signals for a few time-steps, so its generated output may be very inaccurate. Using the loss-value for the early time-steps may cause the model to distort its later output. We therefore give the model a \"warmup-period\" of 10 time-steps where we don't use its accuracy in the loss-function, in hope of improving the accuracy for later time-steps."
      ]
    },
    {
      "cell_type": "code",
      "metadata": {
        "ExecuteTime": {
          "end_time": "2019-09-15T07:43:38.511551Z",
          "start_time": "2019-09-15T07:43:38.508570Z"
        },
        "id": "fNYRiami8RZF",
        "colab_type": "code",
        "colab": {}
      },
      "source": [
        "warmup_steps = 10"
      ],
      "execution_count": 0,
      "outputs": []
    },
    {
      "cell_type": "code",
      "metadata": {
        "ExecuteTime": {
          "end_time": "2019-09-15T07:43:40.041297Z",
          "start_time": "2019-09-15T07:43:40.036275Z"
        },
        "id": "JoM0rcc28RZH",
        "colab_type": "code",
        "colab": {}
      },
      "source": [
        "def loss_mse_warmup(y_true, y_pred):\n",
        "    \"\"\"\n",
        "    Calculate the Mean Squared Error between y_true and y_pred,\n",
        "    but ignore the beginning \"warmup\" part of the sequences.\n",
        "    \n",
        "    y_true is the desired output.\n",
        "    y_pred is the model's output.\n",
        "    \"\"\"\n",
        "\n",
        "    # The shape of both input tensors are:\n",
        "    # [batch_size, sequence_length, num_y_signals].\n",
        "\n",
        "    # Ignore the \"warmup\" parts of the sequences\n",
        "    # by taking slices of the tensors.\n",
        "    y_true_slice = y_true[:, warmup_steps:, :]\n",
        "    y_pred_slice = y_pred[:, warmup_steps:, :]\n",
        "\n",
        "    # These sliced tensors both have this shape:\n",
        "    # [batch_size, sequence_length - warmup_steps, num_y_signals]\n",
        "\n",
        "    # Calculate the MSE loss for each value in these tensors.\n",
        "    # This outputs a 3-rank tensor of the same shape.\n",
        "    loss = tf.losses.mean_squared_error(labels=y_true_slice,\n",
        "                                        predictions=y_pred_slice)\n",
        "\n",
        "    # Keras may reduce this across the first axis (the batch)\n",
        "    # but the semantics are unclear, so to be sure we use\n",
        "    # the loss across the entire tensor, we reduce it to a\n",
        "    # single scalar with the mean function.\n",
        "    loss_mean = tf.reduce_mean(loss)\n",
        "\n",
        "    return loss_mean"
      ],
      "execution_count": 0,
      "outputs": []
    },
    {
      "cell_type": "markdown",
      "metadata": {
        "id": "7WmCqste8RZI",
        "colab_type": "text"
      },
      "source": [
        "### Compile Model\n",
        "\n",
        "This is the optimizer and the beginning learning-rate that we will use."
      ]
    },
    {
      "cell_type": "code",
      "metadata": {
        "ExecuteTime": {
          "end_time": "2019-09-15T07:43:43.018780Z",
          "start_time": "2019-09-15T07:43:42.996798Z"
        },
        "id": "7fQcajMW8RZJ",
        "colab_type": "code",
        "colab": {}
      },
      "source": [
        "optimizer = RMSprop(lr=1e-3)"
      ],
      "execution_count": 0,
      "outputs": []
    },
    {
      "cell_type": "markdown",
      "metadata": {
        "id": "aBvDLBBd8RZK",
        "colab_type": "text"
      },
      "source": [
        "We then compile the Keras model so it is ready for training."
      ]
    },
    {
      "cell_type": "code",
      "metadata": {
        "ExecuteTime": {
          "end_time": "2019-09-15T07:43:45.461231Z",
          "start_time": "2019-09-15T07:43:45.427252Z"
        },
        "id": "v2vWdSLe8RZK",
        "colab_type": "code",
        "colab": {
          "base_uri": "https://localhost:8080/",
          "height": 90
        },
        "outputId": "4ea0a076-41ad-4b7d-df75-7a6fe2b8a5c5"
      },
      "source": [
        "model.compile(loss=loss_mse_warmup, optimizer=optimizer)"
      ],
      "execution_count": 53,
      "outputs": [
        {
          "output_type": "stream",
          "text": [
            "WARNING:tensorflow:From /usr/local/lib/python3.6/dist-packages/tensorflow/python/ops/losses/losses_impl.py:121: add_dispatch_support.<locals>.wrapper (from tensorflow.python.ops.array_ops) is deprecated and will be removed in a future version.\n",
            "Instructions for updating:\n",
            "Use tf.where in 2.0, which has the same broadcast rule as np.where\n"
          ],
          "name": "stdout"
        }
      ]
    },
    {
      "cell_type": "markdown",
      "metadata": {
        "id": "WltAQbbR8RZN",
        "colab_type": "text"
      },
      "source": [
        "This is a very small model with only two layers. The output shape of `(None, None, 3)` means that the model will output a batch with an arbitrary number of sequences, each of which has an arbitrary number of observations, and each observation has 3 signals. This corresponds to the 3 target signals we want to predict."
      ]
    },
    {
      "cell_type": "code",
      "metadata": {
        "ExecuteTime": {
          "end_time": "2019-09-15T07:43:47.887778Z",
          "start_time": "2019-09-15T07:43:47.883781Z"
        },
        "id": "sICJ-GOX8RZO",
        "colab_type": "code",
        "colab": {
          "base_uri": "https://localhost:8080/",
          "height": 334
        },
        "outputId": "d31a9b5a-2e39-4b9f-ac96-5b2c413d50ec"
      },
      "source": [
        "model.summary()"
      ],
      "execution_count": 54,
      "outputs": [
        {
          "output_type": "stream",
          "text": [
            "Model: \"sequential\"\n",
            "_________________________________________________________________\n",
            "Layer (type)                 Output Shape              Param #   \n",
            "=================================================================\n",
            "gru (GRU)                    (None, None, 10)          630       \n",
            "_________________________________________________________________\n",
            "dropout (Dropout)            (None, None, 10)          0         \n",
            "_________________________________________________________________\n",
            "gru_1 (GRU)                  (None, None, 7)           378       \n",
            "_________________________________________________________________\n",
            "dropout_1 (Dropout)          (None, None, 7)           0         \n",
            "_________________________________________________________________\n",
            "dense (Dense)                (None, None, 1)           8         \n",
            "=================================================================\n",
            "Total params: 1,016\n",
            "Trainable params: 1,016\n",
            "Non-trainable params: 0\n",
            "_________________________________________________________________\n"
          ],
          "name": "stdout"
        }
      ]
    },
    {
      "cell_type": "markdown",
      "metadata": {
        "id": "FFqdsbT28RZQ",
        "colab_type": "text"
      },
      "source": [
        "### Callback Functions\n",
        "\n",
        "During training we want to save checkpoints and log the progress to TensorBoard so we create the appropriate callbacks for Keras.\n",
        "\n",
        "This is the callback for writing checkpoints during training."
      ]
    },
    {
      "cell_type": "code",
      "metadata": {
        "ExecuteTime": {
          "end_time": "2019-09-15T07:44:25.798634Z",
          "start_time": "2019-09-15T07:44:25.796642Z"
        },
        "id": "TqEPAJHZ8RZQ",
        "colab_type": "code",
        "colab": {}
      },
      "source": [
        "path_checkpoint = 'PowerPredictionLSTM.keras'\n",
        "callback_checkpoint = ModelCheckpoint(filepath=path_checkpoint,\n",
        "                                      monitor='val_loss',\n",
        "                                      verbose=1,\n",
        "                                      save_weights_only=True,\n",
        "                                      save_best_only=True)"
      ],
      "execution_count": 0,
      "outputs": []
    },
    {
      "cell_type": "markdown",
      "metadata": {
        "id": "lsT19RFY8RZR",
        "colab_type": "text"
      },
      "source": [
        "This is the callback for stopping the optimization when performance worsens on the validation-set."
      ]
    },
    {
      "cell_type": "code",
      "metadata": {
        "ExecuteTime": {
          "end_time": "2019-09-15T07:44:27.029732Z",
          "start_time": "2019-09-15T07:44:27.026733Z"
        },
        "id": "1V0mW4HM8RZS",
        "colab_type": "code",
        "colab": {}
      },
      "source": [
        "callback_early_stopping = EarlyStopping(monitor='val_loss',\n",
        "                                        patience=5, verbose=1)"
      ],
      "execution_count": 0,
      "outputs": []
    },
    {
      "cell_type": "markdown",
      "metadata": {
        "id": "ep7va2FH8RZT",
        "colab_type": "text"
      },
      "source": [
        "This is the callback for writing the TensorBoard log during training."
      ]
    },
    {
      "cell_type": "code",
      "metadata": {
        "ExecuteTime": {
          "end_time": "2019-09-15T07:44:39.600221Z",
          "start_time": "2019-09-15T07:44:39.596224Z"
        },
        "id": "mjO8m3WW8RZT",
        "colab_type": "code",
        "colab": {}
      },
      "source": [
        "callback_tensorboard = TensorBoard(log_dir='./PPPredLSTM_logs/',\n",
        "                                   histogram_freq=0,\n",
        "                                   write_graph=False)"
      ],
      "execution_count": 0,
      "outputs": []
    },
    {
      "cell_type": "markdown",
      "metadata": {
        "id": "-nQa4eAN8RZW",
        "colab_type": "text"
      },
      "source": [
        "This callback reduces the learning-rate for the optimizer if the validation-loss has not improved since the last epoch (as indicated by `patience=0`). The learning-rate will be reduced by multiplying it with the given factor. We set a start learning-rate of 1e-3 above, so multiplying it by 0.1 gives a learning-rate of 1e-4. We don't want the learning-rate to go any lower than this."
      ]
    },
    {
      "cell_type": "code",
      "metadata": {
        "ExecuteTime": {
          "end_time": "2019-09-15T07:44:43.935579Z",
          "start_time": "2019-09-15T07:44:43.931582Z"
        },
        "id": "eBwOqDzY8RZX",
        "colab_type": "code",
        "colab": {}
      },
      "source": [
        "callback_reduce_lr = ReduceLROnPlateau(monitor='val_loss',\n",
        "                                       factor=0.1,\n",
        "                                       min_lr=1e-4,\n",
        "                                       patience=0,\n",
        "                                       verbose=1)"
      ],
      "execution_count": 0,
      "outputs": []
    },
    {
      "cell_type": "code",
      "metadata": {
        "ExecuteTime": {
          "end_time": "2019-09-15T07:44:44.655624Z",
          "start_time": "2019-09-15T07:44:44.651609Z"
        },
        "id": "g4YXC0B48RZZ",
        "colab_type": "code",
        "colab": {}
      },
      "source": [
        "callbacks = [callback_early_stopping,\n",
        "             callback_checkpoint,\n",
        "             callback_tensorboard,\n",
        "             callback_reduce_lr]"
      ],
      "execution_count": 0,
      "outputs": []
    },
    {
      "cell_type": "markdown",
      "metadata": {
        "id": "rnnCSc3B8RZc",
        "colab_type": "text"
      },
      "source": [
        "## Train the Recurrent Neural Network\n",
        "\n",
        "We can now train the neural network.\n",
        "\n",
        "Note that a single \"epoch\" does not correspond to a single processing of the training-set, because of how the batch-generator randomly selects sub-sequences from the training-set. Instead we have selected `steps_per_epoch` so that one \"epoch\" is processed in a few minutes.\n",
        "\n",
        "Also note that the loss sometimes becomes `NaN` (not-a-number). This is often resolved by restarting and running the Notebook again. But it may also be caused by your neural network architecture, learning-rate, batch-size, sequence-length, etc. in which case you may have to modify those settings."
      ]
    },
    {
      "cell_type": "code",
      "metadata": {
        "ExecuteTime": {
          "start_time": "2019-09-15T07:44:52.377Z"
        },
        "id": "_j1PgIfx8RZd",
        "colab_type": "code",
        "colab": {
          "base_uri": "https://localhost:8080/",
          "height": 1073
        },
        "outputId": "caa0fa45-201b-40aa-de45-27a532585989"
      },
      "source": [
        "%%time\n",
        "model.fit_generator(generator=generator,\n",
        "                    epochs=20,\n",
        "                    steps_per_epoch=100,\n",
        "                    validation_data=validation_data,\n",
        "                    callbacks=callbacks)"
      ],
      "execution_count": 60,
      "outputs": [
        {
          "output_type": "stream",
          "text": [
            "Epoch 1/20\n",
            " 99/100 [============================>.] - ETA: 0s - loss: 0.0775\n",
            "Epoch 00001: val_loss improved from inf to 0.04151, saving model to PowerPredictionLSTM.keras\n",
            "100/100 [==============================] - 26s 256ms/step - loss: 0.0771 - val_loss: 0.0415\n",
            "Epoch 2/20\n",
            " 99/100 [============================>.] - ETA: 0s - loss: 0.0382\n",
            "Epoch 00002: val_loss improved from 0.04151 to 0.03143, saving model to PowerPredictionLSTM.keras\n",
            "100/100 [==============================] - 18s 183ms/step - loss: 0.0382 - val_loss: 0.0314\n",
            "Epoch 3/20\n",
            " 99/100 [============================>.] - ETA: 0s - loss: 0.0349\n",
            "Epoch 00003: val_loss improved from 0.03143 to 0.02846, saving model to PowerPredictionLSTM.keras\n",
            "100/100 [==============================] - 18s 183ms/step - loss: 0.0348 - val_loss: 0.0285\n",
            "Epoch 4/20\n",
            " 99/100 [============================>.] - ETA: 0s - loss: 0.0313\n",
            "Epoch 00004: val_loss improved from 0.02846 to 0.02320, saving model to PowerPredictionLSTM.keras\n",
            "100/100 [==============================] - 18s 181ms/step - loss: 0.0313 - val_loss: 0.0232\n",
            "Epoch 5/20\n",
            " 99/100 [============================>.] - ETA: 0s - loss: 0.0290\n",
            "Epoch 00005: val_loss improved from 0.02320 to 0.01776, saving model to PowerPredictionLSTM.keras\n",
            "100/100 [==============================] - 18s 181ms/step - loss: 0.0290 - val_loss: 0.0178\n",
            "Epoch 6/20\n",
            " 99/100 [============================>.] - ETA: 0s - loss: 0.0263\n",
            "Epoch 00006: val_loss improved from 0.01776 to 0.01647, saving model to PowerPredictionLSTM.keras\n",
            "100/100 [==============================] - 18s 181ms/step - loss: 0.0263 - val_loss: 0.0165\n",
            "Epoch 7/20\n",
            " 99/100 [============================>.] - ETA: 0s - loss: 0.0247\n",
            "Epoch 00007: val_loss did not improve from 0.01647\n",
            "\n",
            "Epoch 00007: ReduceLROnPlateau reducing learning rate to 0.00010000000474974513.\n",
            "100/100 [==============================] - 18s 181ms/step - loss: 0.0247 - val_loss: 0.0165\n",
            "Epoch 8/20\n",
            " 99/100 [============================>.] - ETA: 0s - loss: 0.0239\n",
            "Epoch 00008: val_loss improved from 0.01647 to 0.01597, saving model to PowerPredictionLSTM.keras\n",
            "100/100 [==============================] - 18s 178ms/step - loss: 0.0239 - val_loss: 0.0160\n",
            "Epoch 9/20\n",
            " 99/100 [============================>.] - ETA: 0s - loss: 0.0236\n",
            "Epoch 00009: val_loss did not improve from 0.01597\n",
            "\n",
            "Epoch 00009: ReduceLROnPlateau reducing learning rate to 0.0001.\n",
            "100/100 [==============================] - 18s 177ms/step - loss: 0.0236 - val_loss: 0.0163\n",
            "Epoch 10/20\n",
            " 99/100 [============================>.] - ETA: 0s - loss: 0.0234\n",
            "Epoch 00010: val_loss did not improve from 0.01597\n",
            "100/100 [==============================] - 18s 178ms/step - loss: 0.0234 - val_loss: 0.0163\n",
            "Epoch 11/20\n",
            " 99/100 [============================>.] - ETA: 0s - loss: 0.0233\n",
            "Epoch 00011: val_loss did not improve from 0.01597\n",
            "100/100 [==============================] - 18s 177ms/step - loss: 0.0233 - val_loss: 0.0165\n",
            "Epoch 12/20\n",
            " 99/100 [============================>.] - ETA: 0s - loss: 0.0231\n",
            "Epoch 00012: val_loss did not improve from 0.01597\n",
            "100/100 [==============================] - 18s 176ms/step - loss: 0.0231 - val_loss: 0.0166\n",
            "Epoch 13/20\n",
            " 99/100 [============================>.] - ETA: 0s - loss: 0.0230\n",
            "Epoch 00013: val_loss did not improve from 0.01597\n",
            "100/100 [==============================] - 17s 174ms/step - loss: 0.0231 - val_loss: 0.0167\n",
            "Epoch 00013: early stopping\n",
            "CPU times: user 4min 48s, sys: 22.6 s, total: 5min 11s\n",
            "Wall time: 4min\n"
          ],
          "name": "stdout"
        },
        {
          "output_type": "execute_result",
          "data": {
            "text/plain": [
              "<tensorflow.python.keras.callbacks.History at 0x7f3ed68e6e48>"
            ]
          },
          "metadata": {
            "tags": []
          },
          "execution_count": 60
        }
      ]
    },
    {
      "cell_type": "markdown",
      "metadata": {
        "id": "DMCLerXN8RZg",
        "colab_type": "text"
      },
      "source": [
        "### Load Checkpoint\n",
        "\n",
        "Because we use early-stopping when training the model, it is possible that the model's performance has worsened on the test-set for several epochs before training was stopped. We therefore reload the last saved checkpoint, which should have the best performance on the test-set."
      ]
    },
    {
      "cell_type": "markdown",
      "metadata": {
        "id": "iWV8QvQoOGEn",
        "colab_type": "text"
      },
      "source": [
        ""
      ]
    },
    {
      "cell_type": "code",
      "metadata": {
        "id": "VXwj5dEE8RZg",
        "colab_type": "code",
        "colab": {}
      },
      "source": [
        "try:\n",
        "    model.load_weights(path_checkpoint)\n",
        "except Exception as error:\n",
        "    print(\"Error trying to load checkpoint.\")\n",
        "    print(error)"
      ],
      "execution_count": 0,
      "outputs": []
    },
    {
      "cell_type": "markdown",
      "metadata": {
        "id": "cJHzhRRM8RZh",
        "colab_type": "text"
      },
      "source": [
        "## Performance on Test-Set\n",
        "\n",
        "We can now evaluate the model's performance on the test-set. This function expects a batch of data, but we will just use one long time-series for the test-set, so we just expand the array-dimensionality to create a batch with that one sequence."
      ]
    },
    {
      "cell_type": "code",
      "metadata": {
        "id": "l4pU1c358RZi",
        "colab_type": "code",
        "colab": {
          "base_uri": "https://localhost:8080/",
          "height": 34
        },
        "outputId": "ac773974-3ea4-49ff-f387-d1a4e72988d6"
      },
      "source": [
        "result = model.evaluate(x=np.expand_dims(x_test_scaled, axis=0),\n",
        "                        y=np.expand_dims(y_test_scaled, axis=0))"
      ],
      "execution_count": 62,
      "outputs": [
        {
          "output_type": "stream",
          "text": [
            "\r1/1 [==============================] - 0s 125ms/sample - loss: 0.0160\n"
          ],
          "name": "stdout"
        }
      ]
    },
    {
      "cell_type": "code",
      "metadata": {
        "id": "odARPlV-8RZj",
        "colab_type": "code",
        "colab": {
          "base_uri": "https://localhost:8080/",
          "height": 34
        },
        "outputId": "c650b34b-d04f-442e-a6b2-44ef1f6fd841"
      },
      "source": [
        "print(\"loss (test-set):\", result)"
      ],
      "execution_count": 63,
      "outputs": [
        {
          "output_type": "stream",
          "text": [
            "loss (test-set): 0.015968021005392075\n"
          ],
          "name": "stdout"
        }
      ]
    },
    {
      "cell_type": "code",
      "metadata": {
        "id": "eG_IVLvM8RZk",
        "colab_type": "code",
        "colab": {}
      },
      "source": [
        "# If you have several metrics you can use this instead.\n",
        "if False:\n",
        "    for res, metric in zip(result, model.metrics_names):\n",
        "        print(\"{0}: {1:.3e}\".format(metric, res))"
      ],
      "execution_count": 0,
      "outputs": []
    },
    {
      "cell_type": "markdown",
      "metadata": {
        "id": "Oy9LISDY8RZl",
        "colab_type": "text"
      },
      "source": [
        "## Generate Predictions\n",
        "\n",
        "This helper-function plots the predicted and true output-signals."
      ]
    },
    {
      "cell_type": "code",
      "metadata": {
        "id": "p_YcnrSq8RZm",
        "colab_type": "code",
        "colab": {}
      },
      "source": [
        "def plot_comparison(start_idx, length=100, train=True):\n",
        "    \"\"\"\n",
        "    Plot the predicted and true output-signals.\n",
        "    \n",
        "    :param start_idx: Start-index for the time-series.\n",
        "    :param length: Sequence-length to process and plot.\n",
        "    :param train: Boolean whether to use training- or test-set.\n",
        "    \"\"\"\n",
        "    \n",
        "    if train:\n",
        "        # Use training-data.\n",
        "        x = x_train_scaled\n",
        "        y_true = y_train\n",
        "    else:\n",
        "        # Use test-data.\n",
        "        x = x_test_scaled\n",
        "        y_true = y_test\n",
        "    \n",
        "    # End-index for the sequences.\n",
        "    end_idx = start_idx + length\n",
        "    \n",
        "    # Select the sequences from the given start-index and\n",
        "    # of the given length.\n",
        "    x = x[start_idx:end_idx]\n",
        "    y_true = y_true[start_idx:end_idx]\n",
        "    \n",
        "    # Input-signals for the model.\n",
        "    x = np.expand_dims(x, axis=0)\n",
        "\n",
        "    # Use the model to predict the output-signals.\n",
        "    y_pred = model.predict(x)\n",
        "    \n",
        "    # The output of the model is between 0 and 1.\n",
        "    # Do an inverse map to get it back to the scale\n",
        "    # of the original data-set.\n",
        "    y_pred_rescaled = y_scaler.inverse_transform(y_pred[0])\n",
        "    \n",
        "    # For each output-signal.\n",
        "    for signal in range(len(target_names)):\n",
        "        # Get the output-signal predicted by the model.\n",
        "        signal_pred = y_pred_rescaled[:, signal]\n",
        "        \n",
        "        # Get the true output-signal from the data-set.\n",
        "        signal_true = y_true[:, signal]\n",
        "\n",
        "        # Make the plotting-canvas bigger.\n",
        "        plt.figure(figsize=(15,5))\n",
        "        \n",
        "        # Plot and compare the two signals.\n",
        "        plt.plot(signal_true, label='true')\n",
        "        plt.plot(signal_pred, label='pred')\n",
        "        \n",
        "        # Plot grey box for warmup-period.\n",
        "        p = plt.axvspan(0, warmup_steps, facecolor='black', alpha=0.15)\n",
        "        \n",
        "        # Plot labels etc.\n",
        "        plt.ylabel(target_names[signal])\n",
        "        plt.legend()\n",
        "        plt.show()\n",
        "\n",
        "        #compute errors\n",
        "        RMSE = round(math.sqrt(metrics.mean_squared_error(signal_true,signal_pred)),2)\n",
        "        MAE = round(metrics.mean_absolute_error(signal_true,signal_pred),2)\n",
        "        R2 = round(metrics.r2_score(signal_true,signal_pred)*100, 2)\n",
        "        print(\"RMSE: \",RMSE)\n",
        "        print(\"MAE: \",MAE)\n",
        "        print(\"R2: \",R2)\n"
      ],
      "execution_count": 0,
      "outputs": []
    },
    {
      "cell_type": "markdown",
      "metadata": {
        "id": "RJoVp1C_8RZp",
        "colab_type": "text"
      },
      "source": [
        "We now plot the resulting prediction. These plots are in fact a little bit more complicated than they look.\n",
        "\n",
        "The prediction is not so accurate during the first timesteps because the model has only seen very little input data up to this point.\n",
        "The model produced a single timestep output data for each tset of input data, meaning the model has only ran during a few timesteps, it knows only little of the input data history and can't produce an accurate prediction yet. In other words, the model has to \"warm up\" frist by processing maybe about 10 timesteps before it can predict reliable outputs.\n",
        "\n",
        "That is the reason why we have to ignore this warmup period of about 10 timesteps when starting to calculate the MSE within the loss function. The \"warmup period\" is displayed as a grey box in the graphs.\n",
        "\n",
        "Let us beging with an example coming from the training dataset. This is data that the model has already seen during its training so it should perform well on it."
      ]
    },
    {
      "cell_type": "code",
      "metadata": {
        "scrolled": true,
        "id": "4BTsQ7S18RZq",
        "colab_type": "code",
        "colab": {
          "base_uri": "https://localhost:8080/",
          "height": 376
        },
        "outputId": "41add063-f2ca-413c-aa6f-ce9d55e0119c"
      },
      "source": [
        "plot_comparison(start_idx=0, length=10000, train=True)"
      ],
      "execution_count": 68,
      "outputs": [
        {
          "output_type": "display_data",
          "data": {
            "image/png": "[encoded data removed]",
            "text/plain": [
              "<Figure size 1080x360 with 1 Axes>"
            ]
          },
          "metadata": {
            "tags": []
          }
        },
        {
          "output_type": "stream",
          "text": [
            "RMSE:  235.63\n",
            "MAE:  175.02\n",
            "R2:  59.08\n"
          ],
          "name": "stdout"
        }
      ]
    },
    {
      "cell_type": "markdown",
      "metadata": {
        "id": "0TV5kZX08RZw",
        "colab_type": "text"
      },
      "source": [
        "### Example from Test-Set\n",
        "\n",
        "Let us now consider an example that is taken out the test sbset. Our model has not seen this data yet during its training.\n"
      ]
    },
    {
      "cell_type": "code",
      "metadata": {
        "scrolled": false,
        "id": "k421_Y5Q8RZw",
        "colab_type": "code",
        "colab": {
          "base_uri": "https://localhost:8080/",
          "height": 376
        },
        "outputId": "1081152b-4d96-479c-9e1a-a043685ba4d6"
      },
      "source": [
        "plot_comparison(start_idx=0, length=192, train=False)"
      ],
      "execution_count": 67,
      "outputs": [
        {
          "output_type": "display_data",
          "data": {
            "image/png": "[encoded data removed]",
            "text/plain": [
              "<Figure size 1080x360 with 1 Axes>"
            ]
          },
          "metadata": {
            "tags": []
          }
        },
        {
          "output_type": "stream",
          "text": [
            "RMSE:  236.61\n",
            "MAE:  163.35\n",
            "R2:  73.77\n"
          ],
          "name": "stdout"
        }
      ]
    },
    {
      "cell_type": "markdown",
      "metadata": {
        "id": "egX7Ka7i8RZx",
        "colab_type": "text"
      },
      "source": [
        "## Conclusion\n",
        "\n",
        "This experiment showed how to use a Recurrent Neural Network to predict a given time series from historical values. Unfortunately, in our case, this is not showing better results than a simple regression.\n",
        "\n"
      ]
    },
    {
      "cell_type": "code",
      "metadata": {
        "id": "1hcgNBhEbIL3",
        "colab_type": "code",
        "colab": {}
      },
      "source": [
        ""
      ],
      "execution_count": 0,
      "outputs": []
    }
  ]
}